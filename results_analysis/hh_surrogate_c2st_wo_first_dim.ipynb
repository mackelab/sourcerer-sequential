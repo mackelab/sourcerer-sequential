{
 "cells": [
  {
   "cell_type": "code",
   "execution_count": 1,
   "id": "a8975f8a-6c26-4ccb-a4f4-42f20ae818d8",
   "metadata": {},
   "outputs": [
    {
     "name": "stdout",
     "output_type": "stream",
     "text": [
      "/mnt/qb/work/macke/mwe102/.conda/sbi/bin/python\n",
      "Python 3.10.15\n",
      "/mnt/qb/work/macke/mwe102/sourcerer-sequential/results_analysis\n"
     ]
    }
   ],
   "source": [
    "!which python; python --version; pwd"
   ]
  },
  {
   "cell_type": "code",
   "execution_count": 2,
   "id": "3d35eef0-69bd-40bd-a846-3bae52b61b3b",
   "metadata": {},
   "outputs": [
    {
     "name": "stdout",
     "output_type": "stream",
     "text": [
      "run id: 20250128_161209\n",
      "using cuda\n"
     ]
    }
   ],
   "source": [
    "import os\n",
    "from time import time_ns; from datetime import datetime\n",
    "import numpy as np; import pandas as pd; import matplotlib.pyplot as plt\n",
    "import torch\n",
    "from corner import corner\n",
    "from omegaconf import OmegaConf as OC\n",
    "\n",
    "import matplotlib.pyplot as plt\n",
    "import numpy as np\n",
    "import torch\n",
    "import torch.optim as optim\n",
    "from corner import corner\n",
    "from matplotlib import pyplot as plt\n",
    "\n",
    "# hodgkin-huxley\n",
    "from sourcerer.utils import scale_tensor\n",
    "from sourcerer.hh_simulator import EphysModel # hh simulator\n",
    "from sourcerer.hh_utils import HHSurro, PRIOR_MAX, PRIOR_MIN, DEF_RESTRICTED\n",
    "\n",
    "from sourcerer.fit_surrogate import (\n",
    "    create_train_val_dataloaders,\n",
    "    fit_conditional_normalizing_flow,\n",
    "    train_val_split,\n",
    "    create_dataloader\n",
    ")\n",
    "from sourcerer.real_nvp import (\n",
    "    Sampler,\n",
    "    RealNVPs,\n",
    "    TemperedUniform,         # a little slanted uniform to make log-density well defined\n",
    "    VariableTemperedUniform, # variable: each dimension can have a different range\n",
    "    kozachenko_leonenko_estimator,\n",
    ")\n",
    "\n",
    "from sourcerer.sbi_classifier_two_sample_test import c2st_scores\n",
    "\n",
    "# wasserstein source\n",
    "from sourcerer.sliced_wasserstein import sliced_wasserstein_distance\n",
    "from sourcerer.wasserstein_estimator import train_source\n",
    "\n",
    "# saving utils\n",
    "from sourcerer.utils import (\n",
    "    save_cfg_as_yaml,\n",
    "    save_fig,\n",
    "    save_numpy_csv,\n",
    "    save_state_dict,\n",
    "    script_or_command_line_cfg,\n",
    "    set_seed,\n",
    ")\n",
    "\n",
    "device = torch.device(\"cuda\" if torch.cuda.is_available() else \"cpu\")\n",
    "run_id = datetime.now().strftime(\"%Y%m%d_%H%M%S\")\n",
    "print(f'run id: {run_id}')\n",
    "print(f\"using {device}\")"
   ]
  },
  {
   "cell_type": "code",
   "execution_count": 3,
   "id": "009fb06e-d14f-40e1-b77c-28b6b043ff53",
   "metadata": {},
   "outputs": [],
   "source": [
    "import matplotlib\n",
    "# matplotlib.rcParams['lines.linewidth'] = 2\n",
    "matplotlib.rcParams['font.family'] = \"sans-serif\"\n",
    "# matplotlib.rcParams['legend.fontsize'] = 15\n",
    "# matplotlib.rcParams['axes.labelsize'] = 15\n",
    "# matplotlib.rcParams['xtick.labelsize'] = 15\n",
    "# matplotlib.rcParams['ytick.labelsize'] = 15\n",
    "# matplotlib.rcParams['legend.title_fontsize'] = 15\n",
    "matplotlib.rcParams['axes.spines.top'] = False\n",
    "matplotlib.rcParams['axes.spines.right'] = False\n",
    "# matplotlib.rcParams['figure.dpi'] = 250\n",
    "# matplotlib.rcParams['figure.figsize'] = (4,3)\n",
    "# cmap = plt.get_cmap(\"viridis\")"
   ]
  },
  {
   "cell_type": "code",
   "execution_count": 4,
   "id": "9eaedfb7-34af-4ade-b676-e91ac7dd539f",
   "metadata": {},
   "outputs": [
    {
     "name": "stdout",
     "output_type": "stream",
     "text": [
      "base:\n",
      "  tag: debug\n",
      "  folder: sequential_hh\n",
      "  base_path: ./results_sourcerer\n",
      "  seed: null\n",
      "simulator:\n",
      "  self: inverse_kinematics\n",
      "  box_domain_lower: -3.141592653589\n",
      "  box_domain_upper: 3.141592653589\n",
      "surrogate:\n",
      "  self: hh_train_surrogate\n",
      "  num_training_samples: 1000000\n",
      "  xdim: 13\n",
      "  ydim: 5\n",
      "  num_hidden_layers: 4\n",
      "  hidden_layer_dim: 256\n",
      "  nb_epochs: 250\n",
      "  surrogate_lr: 0.0005\n",
      "  surrogate_weight_decay: 1.0e-05\n",
      "  early_stopping_patience: 50\n",
      "source_model:\n",
      "  self: sampler\n",
      "  num_hidden_layers: 3\n",
      "  hidden_layer_dim: 100\n",
      "source:\n",
      "  self: wasserstein_hh\n",
      "  xo_path: TODO_path_to_observations.pkl\n",
      "  wasserstein_slices: 500\n",
      "  wasserstein_order: 2\n",
      "  use_log_sw: true\n",
      "  num_chunks: 1\n",
      "  num_kole_samples: 512\n",
      "  pretraining_steps: 2000\n",
      "  linear_decay_steps: 2000\n",
      "  lambda_steps: 11000\n",
      "  fin_lambda: 0.25\n",
      "  learning_rate: 0.0001\n",
      "  weight_decay: 1.0e-05\n",
      "  early_stopping_patience: 1000000\n",
      "sequential:\n",
      "  self: naive\n",
      "  total_simulation_budget: 2000\n",
      "  number_of_iterations: 2\n",
      "  subsampling: false\n",
      "  collate_last_iter_data: true\n",
      "  lambda_stays_same: true\n",
      "  frontloading: false\n",
      "  front_frac: 0.3\n",
      "  number_of_sims_source: 500000\n",
      "\n",
      "WARNING: File ./results_sourcerer/sequential_hh/debug_cfg.yaml already exists. Save with timestamp.\n"
     ]
    }
   ],
   "source": [
    "# Define config\n",
    "# NOTE: These overrides only take effect if this script is run interactively\n",
    "local_overrides = [\n",
    "    \"base.tag=debug\",\n",
    "    \"base.folder=sequential_hh\",\n",
    "    \"source=wasserstein_hh\",\n",
    "    \"source.fin_lambda=0.25\", # as reported in the paper\n",
    "    \"surrogate=hh_train_surrogate\", #load_hh_surrogate\n",
    "]\n",
    "\n",
    "cfg = script_or_command_line_cfg(\n",
    "    config_name=\"config\",\n",
    "    config_path=\"../conf\",\n",
    "    local_overrides=local_overrides,\n",
    "    name=__name__,\n",
    ")\n",
    "\n",
    "assert cfg.base.tag is not None\n",
    "assert cfg.base.folder is not None\n",
    "\n",
    "print(OC.to_yaml(cfg))\n",
    "\n",
    "save_cfg_as_yaml(\n",
    "    cfg,\n",
    "    f\"{cfg.base.tag}_cfg.yaml\",\n",
    "    folder=cfg.base.folder,\n",
    "    base_path=cfg.base.base_path,\n",
    ")"
   ]
  },
  {
   "cell_type": "code",
   "execution_count": 5,
   "id": "493753b0-ae2c-4c6d-aa8e-c76dfe8c494c",
   "metadata": {},
   "outputs": [
    {
     "name": "stdout",
     "output_type": "stream",
     "text": [
      "WARNING: File ./results_sourcerer/sequential_hh/debug_seed.csv already exists. Save with timestamp.\n",
      "seed: 12235\n"
     ]
    }
   ],
   "source": [
    "# set seed\n",
    "if cfg.base.seed is None:\n",
    "    random_random_seed = 12235 # np.random.randint(2**16)\n",
    "    set_seed(random_random_seed)\n",
    "    save_numpy_csv(\n",
    "        np.array([random_random_seed], dtype=int),\n",
    "        file_name=f\"{cfg.base.tag}_seed.csv\",\n",
    "        folder=cfg.base.folder,\n",
    "        base_path=cfg.base.base_path,\n",
    "    )\n",
    "    print(f\"seed: {random_random_seed}\")\n",
    "else:\n",
    "    set_seed(cfg.base.seed)"
   ]
  },
  {
   "cell_type": "code",
   "execution_count": 6,
   "id": "26e89833-ef97-4fae-8754-617c40ba73b0",
   "metadata": {},
   "outputs": [
    {
     "name": "stdout",
     "output_type": "stream",
     "text": [
      "theta/parameter dimension: 13\n",
      "x/observation dimension: 5\n"
     ]
    }
   ],
   "source": [
    "# notation here: θ (which is x here), and x (which is x here) \n",
    "print(f\"theta/parameter dimension: {cfg.surrogate.xdim}\")\n",
    "print(f\"x/observation dimension: {cfg.surrogate.ydim}\")\n",
    "theta_labels = [fr\"$\\theta_{{{i+1}}}$\" for i in range(cfg.surrogate.xdim)]\n",
    "y_labels = [fr\"$x_{i+1}$\" for i in range(cfg.surrogate.ydim)]"
   ]
  },
  {
   "cell_type": "markdown",
   "id": "06ed11cf-2e42-4a26-bed8-1914bd4f550f",
   "metadata": {},
   "source": [
    "## load data"
   ]
  },
  {
   "cell_type": "code",
   "execution_count": 7,
   "id": "1885c7fc-f880-4da9-bf80-9c2b855134aa",
   "metadata": {},
   "outputs": [],
   "source": [
    "# load data\n",
    "def fetch_hh_data_full(path='./full_batch.npz'):\n",
    "    sim_data = np.load(path)\n",
    "    theta = sim_data[\"theta\"]\n",
    "    stats = sim_data[\"stats\"]\n",
    "\n",
    "    # Remove undefined simulations (either only the 5 out of 15mil that completelly fail, or the ones without undefined stats)\n",
    "    keeping = (~np.isnan(np.mean(stats, axis=1))) & (~np.isinf(np.mean(stats, axis=1)))\n",
    "    moment_keeping = (~np.isnan(stats[:, 22])) & (~np.isinf(stats[:, 22]))  # 22 is a moment\n",
    "    #print(theta[~moment_keeping, :])  # 5 sims out of 15mil completely fail\n",
    "    # print(np.where(moment_keeping == 0)[0])\n",
    "\n",
    "    stats = stats[moment_keeping, :]  # delete Nan simulations that completely fail\n",
    "    theta = theta[moment_keeping, :]  # delete Nan simulations that completely fail\n",
    "    \n",
    "    stats = stats[:, DEF_RESTRICTED]\n",
    "    # reverse engineer unnecessarily undefined counts -- why??\n",
    "    stats[:, :1][np.isnan(stats[:, :1])] = np.log(3)\n",
    "\n",
    "    # standardization\n",
    "    source_dim = 13\n",
    "    # standardize source to range from -1 to 1\n",
    "    source = scale_tensor(\n",
    "        torch.from_numpy(np.float32(theta)),\n",
    "        PRIOR_MIN,               # current range\n",
    "        PRIOR_MAX,\n",
    "        -torch.ones(source_dim), # target range\n",
    "        torch.ones(source_dim),\n",
    "    )\n",
    "    \n",
    "    stats_torch = torch.from_numpy(np.float32(stats))\n",
    "    stats_mean = torch.mean(stats_torch, dim=0)\n",
    "    stats_std = torch.std(stats_torch, dim=0)\n",
    "    # print(stats_mean)\n",
    "    # print(stats_std)\n",
    "    stats_torch = (stats_torch - stats_mean) / stats_std\n",
    "    \n",
    "    return source, stats_torch # both normalized"
   ]
  },
  {
   "cell_type": "code",
   "execution_count": 8,
   "id": "6d1d4fb2-68e2-4336-ab6d-566b0e6e022f",
   "metadata": {},
   "outputs": [
    {
     "name": "stdout",
     "output_type": "stream",
     "text": [
      "torch.Size([14999995, 13]) torch.Size([14999995, 5])\n"
     ]
    }
   ],
   "source": [
    "params, xs = fetch_hh_data_full(path='../notebooks/full_batch.npz') # note that both params and xs are standardized here\n",
    "print(params.shape, xs.shape)\n",
    "\n",
    "\n",
    "number_of_sims_source = cfg.sequential.number_of_sims_source # how many x-s to train the source on? It is typically 1M, also it is to be normalized\n",
    "source_dim = cfg.surrogate.xdim\n",
    "\n",
    "# choose thetas that are outside of what source model would see (in terms of observations)\n",
    "# note that here thetas are in [-1, 1], the x-s are standardized\n",
    "gt_source = params[number_of_sims_source:number_of_sims_source+10_000, :]            # 10k thetas from true source distribution, on cpu\n",
    "gt_source_two = params[number_of_sims_source+10_000:number_of_sims_source+20_000, :] # another 10k thetas from true source distribution\n",
    "\n",
    "# simulations from the dataset (note that these are standardized)\n",
    "gt_simulator = xs[number_of_sims_source:number_of_sims_source+10_000, :]            # on cpu\n",
    "gt_simulator_two = xs[number_of_sims_source+10_000:number_of_sims_source+20_000, :] # on cpu\n",
    "\n",
    "# we should also use our simulator, first need to move the sources to actual range\n",
    "gt_source_moved = scale_tensor(gt_source, -torch.ones(source_dim), torch.ones(source_dim), PRIOR_MIN, PRIOR_MAX)         # on cpu\n",
    "gt_source_two_moved = scale_tensor(gt_source_two, -torch.ones(source_dim), torch.ones(source_dim), PRIOR_MIN, PRIOR_MAX) # on cpu"
   ]
  },
  {
   "cell_type": "markdown",
   "id": "57a489a1-4599-43cd-b9c0-7102f3082aef",
   "metadata": {},
   "source": [
    "- we only need .... tensors from above"
   ]
  },
  {
   "cell_type": "code",
   "execution_count": 10,
   "id": "4b055dbe-2e4f-435a-aefe-9fce145789f0",
   "metadata": {},
   "outputs": [],
   "source": [
    "base_path_aggregate = '../results_sourcerer/'\n",
    "foldertxt = 'seq_{S}_{B}_{I}_{SEED}'\n",
    "surrotxt = 'run_{B}_{I}_{SEED}_final_surrogate.pt'\n",
    "filetxt = 'run_{B}_{I}_{SEED}_results_df.csv'"
   ]
  },
  {
   "cell_type": "code",
   "execution_count": 11,
   "id": "7794c540-3337-43c3-98e6-ad547e38f1e9",
   "metadata": {},
   "outputs": [],
   "source": [
    "SIMULATORS = [\"hh\"]\n",
    "SEEDS = {\"hh\": [12235, 54973, 34358, 3828, 9656],}\n",
    "METRICS_NAMES = ['surro_c2sts',\n",
    "                 'source_simu_pf_c2sts',\n",
    "                 'source_surro_pf_c2sts',\n",
    "                 'source_entropies'\n",
    "                ]\n",
    "METRICS_LABELS = {\n",
    "    \"surro_c2sts\": \"Surrogate C2ST (final)\",\n",
    "    \"source_simu_pf_c2sts\": \"Source C2ST\\n(PF using NNS)\",\n",
    "    \"source_surro_pf_c2sts\": \"Source C2ST\\n(PF using surr.)\",\n",
    "    \"source_entropies\": \"Source entropy estimate\",\n",
    "}"
   ]
  },
  {
   "cell_type": "code",
   "execution_count": 15,
   "id": "7ca86ec3-12c9-4a86-8ace-71c42eb45fcb",
   "metadata": {},
   "outputs": [],
   "source": [
    "def path_to_surrogate(base_path, sim, budget, iters, seed):\n",
    "    return os.path.join(base_path,\n",
    "                        foldertxt.format(S=sim, B=budget, I=iters, SEED=seed),\n",
    "                        surrotxt.format(B=budget, I=iters, SEED=seed)\n",
    "                       )"
   ]
  },
  {
   "cell_type": "code",
   "execution_count": 16,
   "id": "7e2610f5-c9b5-4952-9ad3-741999eaf65c",
   "metadata": {},
   "outputs": [],
   "source": [
    "BUDGETS = [10_000, 25_000, 50_000, 100_000, 250_000, 500_000]#, 1_000_000]\n",
    "ITERS = [10, 8, 6, 5, 4, 3, 2, 1]"
   ]
  },
  {
   "cell_type": "code",
   "execution_count": null,
   "id": "3cb50305-3757-48ef-ac8a-e5e71a6f53a8",
   "metadata": {},
   "outputs": [],
   "source": []
  },
  {
   "cell_type": "code",
   "execution_count": null,
   "id": "ec05e3a6-6e8d-43ac-a51b-be88bb7287b7",
   "metadata": {},
   "outputs": [],
   "source": []
  },
  {
   "cell_type": "code",
   "execution_count": null,
   "id": "425df374-9724-4ee5-ac12-9746957aae81",
   "metadata": {},
   "outputs": [],
   "source": []
  },
  {
   "cell_type": "markdown",
   "id": "8bbeb720-7f5a-4101-b4b5-abaf013dc055",
   "metadata": {},
   "source": [
    "## initialize surrogate and data to compute C2STs\n",
    "- we need to loop over for each budget and each iteration and seeds\n",
    "- then init surrogate, feed data to compute c2st"
   ]
  },
  {
   "cell_type": "code",
   "execution_count": 17,
   "id": "201f9abb-5943-4219-aa8c-a902e37cfd93",
   "metadata": {},
   "outputs": [
    {
     "name": "stdout",
     "output_type": "stream",
     "text": [
      "12235\n",
      "../results_sourcerer/seq_hh_25000_6_12235/run_25000_6_12235_final_surrogate.pt\n"
     ]
    }
   ],
   "source": [
    "# Define surrogate model\n",
    "surrogate = HHSurro(hidden_layer_dim=cfg.surrogate.hidden_layer_dim,\n",
    "                    xdim=cfg.surrogate.xdim,\n",
    "                    ydim=cfg.surrogate.ydim\n",
    "                   ).to(device)\n",
    "\n",
    "\n",
    "\n",
    "simulator = \"hh\"\n",
    "b=25_000\n",
    "it=6\n",
    "seed = SEEDS[simulator][0]\n",
    "print(seed)\n",
    "\n",
    "path = path_to_surrogate(base_path_aggregate, simulator, b, it, seed)\n",
    "if os.path.exists(path):\n",
    "    print(path)\n",
    "    state_dict = torch.load(path, weights_only=True)\n",
    "    surrogate.load_state_dict(state_dict)\n",
    "    surrogate = surrogate.to(device)\n",
    "else:\n",
    "    print(f\"Could not find file: {path}\")\n",
    "\n",
    "# surrogate"
   ]
  },
  {
   "cell_type": "code",
   "execution_count": 18,
   "id": "f66435a4-aeb6-4732-8529-a4b08059d823",
   "metadata": {},
   "outputs": [],
   "source": [
    "c2st_array = np.zeros((len(BUDGETS), len(ITERS), len(SEEDS[simulator])))\n",
    "c2st_array_wo_first = np.zeros((len(BUDGETS), len(ITERS), len(SEEDS[simulator])))"
   ]
  },
  {
   "cell_type": "code",
   "execution_count": 19,
   "id": "a57e83d1-7c34-46c4-af4f-85dc99ac2400",
   "metadata": {},
   "outputs": [
    {
     "name": "stdout",
     "output_type": "stream",
     "text": [
      "10000, 10: Surrogate vs Simulator y-space C2ST: 0.833\n",
      "10000, 10: Surrogate vs Simulator y-space C2ST [wo first dimension]: 0.64885\n",
      "10000, 8: Surrogate vs Simulator y-space C2ST: 0.83675\n",
      "10000, 8: Surrogate vs Simulator y-space C2ST [wo first dimension]: 0.65285\n",
      "10000, 6: Surrogate vs Simulator y-space C2ST: 0.82455\n",
      "10000, 6: Surrogate vs Simulator y-space C2ST [wo first dimension]: 0.6463\n",
      "10000, 5: Surrogate vs Simulator y-space C2ST: 0.8389000000000001\n",
      "10000, 5: Surrogate vs Simulator y-space C2ST [wo first dimension]: 0.6567000000000001\n",
      "10000, 4: Surrogate vs Simulator y-space C2ST: 0.84705\n",
      "10000, 4: Surrogate vs Simulator y-space C2ST [wo first dimension]: 0.66395\n",
      "10000, 3: Surrogate vs Simulator y-space C2ST: 0.82345\n",
      "10000, 3: Surrogate vs Simulator y-space C2ST [wo first dimension]: 0.6551499999999999\n",
      "10000, 2: Surrogate vs Simulator y-space C2ST: 0.8343\n",
      "10000, 2: Surrogate vs Simulator y-space C2ST [wo first dimension]: 0.6698500000000001\n",
      "10000, 1: Surrogate vs Simulator y-space C2ST: 0.8400000000000001\n",
      "10000, 1: Surrogate vs Simulator y-space C2ST [wo first dimension]: 0.6688999999999999\n",
      "25000, 10: Surrogate vs Simulator y-space C2ST: 0.81565\n",
      "25000, 10: Surrogate vs Simulator y-space C2ST [wo first dimension]: 0.60175\n",
      "25000, 8: Surrogate vs Simulator y-space C2ST: 0.81395\n",
      "25000, 8: Surrogate vs Simulator y-space C2ST [wo first dimension]: 0.5915\n",
      "25000, 6: Surrogate vs Simulator y-space C2ST: 0.8041\n",
      "25000, 6: Surrogate vs Simulator y-space C2ST [wo first dimension]: 0.5831000000000001\n",
      "25000, 5: Surrogate vs Simulator y-space C2ST: 0.7939\n",
      "25000, 5: Surrogate vs Simulator y-space C2ST [wo first dimension]: 0.6033999999999999\n",
      "25000, 4: Surrogate vs Simulator y-space C2ST: 0.79235\n",
      "25000, 4: Surrogate vs Simulator y-space C2ST [wo first dimension]: 0.5877000000000001\n",
      "25000, 3: Surrogate vs Simulator y-space C2ST: 0.81585\n",
      "25000, 3: Surrogate vs Simulator y-space C2ST [wo first dimension]: 0.5948499999999999\n",
      "25000, 2: Surrogate vs Simulator y-space C2ST: 0.8073499999999999\n",
      "25000, 2: Surrogate vs Simulator y-space C2ST [wo first dimension]: 0.59855\n",
      "25000, 1: Surrogate vs Simulator y-space C2ST: 0.8150999999999999\n",
      "25000, 1: Surrogate vs Simulator y-space C2ST [wo first dimension]: 0.60875\n",
      "50000, 10: Surrogate vs Simulator y-space C2ST: 0.79675\n",
      "50000, 10: Surrogate vs Simulator y-space C2ST [wo first dimension]: 0.5457\n",
      "50000, 8: Surrogate vs Simulator y-space C2ST: 0.7885500000000001\n",
      "50000, 8: Surrogate vs Simulator y-space C2ST [wo first dimension]: 0.5453\n",
      "50000, 6: Surrogate vs Simulator y-space C2ST: 0.79335\n",
      "50000, 6: Surrogate vs Simulator y-space C2ST [wo first dimension]: 0.55655\n",
      "50000, 5: Surrogate vs Simulator y-space C2ST: 0.7972999999999999\n",
      "50000, 5: Surrogate vs Simulator y-space C2ST [wo first dimension]: 0.6007\n",
      "50000, 4: Surrogate vs Simulator y-space C2ST: 0.7978\n",
      "50000, 4: Surrogate vs Simulator y-space C2ST [wo first dimension]: 0.5779\n",
      "50000, 3: Surrogate vs Simulator y-space C2ST: 0.7929499999999999\n",
      "50000, 3: Surrogate vs Simulator y-space C2ST [wo first dimension]: 0.571\n",
      "50000, 2: Surrogate vs Simulator y-space C2ST: 0.7826000000000001\n",
      "50000, 2: Surrogate vs Simulator y-space C2ST [wo first dimension]: 0.5630499999999999\n",
      "50000, 1: Surrogate vs Simulator y-space C2ST: 0.7923\n",
      "50000, 1: Surrogate vs Simulator y-space C2ST [wo first dimension]: 0.5751000000000001\n",
      "100000, 10: Surrogate vs Simulator y-space C2ST: 0.76655\n",
      "100000, 10: Surrogate vs Simulator y-space C2ST [wo first dimension]: 0.52925\n",
      "100000, 8: Surrogate vs Simulator y-space C2ST: 0.7772500000000001\n",
      "100000, 8: Surrogate vs Simulator y-space C2ST [wo first dimension]: 0.5347500000000001\n",
      "100000, 6: Surrogate vs Simulator y-space C2ST: 0.7675500000000001\n",
      "100000, 6: Surrogate vs Simulator y-space C2ST [wo first dimension]: 0.5371499999999999\n",
      "100000, 5: Surrogate vs Simulator y-space C2ST: 0.7866500000000001\n",
      "100000, 5: Surrogate vs Simulator y-space C2ST [wo first dimension]: 0.5444\n",
      "100000, 4: Surrogate vs Simulator y-space C2ST: 0.76555\n",
      "100000, 4: Surrogate vs Simulator y-space C2ST [wo first dimension]: 0.5189\n",
      "100000, 3: Surrogate vs Simulator y-space C2ST: 0.7787000000000001\n",
      "100000, 3: Surrogate vs Simulator y-space C2ST [wo first dimension]: 0.536\n",
      "100000, 2: Surrogate vs Simulator y-space C2ST: 0.78035\n",
      "100000, 2: Surrogate vs Simulator y-space C2ST [wo first dimension]: 0.5471\n",
      "100000, 1: Surrogate vs Simulator y-space C2ST: 0.7867\n",
      "100000, 1: Surrogate vs Simulator y-space C2ST [wo first dimension]: 0.55115\n",
      "250000, 10: Surrogate vs Simulator y-space C2ST: 0.75675\n",
      "250000, 10: Surrogate vs Simulator y-space C2ST [wo first dimension]: 0.5244\n",
      "250000, 8: Surrogate vs Simulator y-space C2ST: 0.7546999999999999\n",
      "250000, 8: Surrogate vs Simulator y-space C2ST [wo first dimension]: 0.5047\n",
      "250000, 6: Surrogate vs Simulator y-space C2ST: 0.7676000000000001\n",
      "250000, 6: Surrogate vs Simulator y-space C2ST [wo first dimension]: 0.5037499999999999\n",
      "250000, 5: Surrogate vs Simulator y-space C2ST: 0.7538499999999999\n",
      "250000, 5: Surrogate vs Simulator y-space C2ST [wo first dimension]: 0.50155\n",
      "250000, 4: Surrogate vs Simulator y-space C2ST: 0.7900499999999999\n",
      "250000, 4: Surrogate vs Simulator y-space C2ST [wo first dimension]: 0.5476\n",
      "250000, 3: Surrogate vs Simulator y-space C2ST: 0.7513000000000001\n",
      "250000, 3: Surrogate vs Simulator y-space C2ST [wo first dimension]: 0.4989\n",
      "250000, 2: Surrogate vs Simulator y-space C2ST: 0.7485999999999999\n",
      "250000, 2: Surrogate vs Simulator y-space C2ST [wo first dimension]: 0.5206500000000001\n",
      "250000, 1: Surrogate vs Simulator y-space C2ST: 0.75735\n",
      "250000, 1: Surrogate vs Simulator y-space C2ST [wo first dimension]: 0.50525\n",
      "500000, 10: Surrogate vs Simulator y-space C2ST: 0.75535\n",
      "500000, 10: Surrogate vs Simulator y-space C2ST [wo first dimension]: 0.5077499999999999\n",
      "500000, 8: Surrogate vs Simulator y-space C2ST: 0.7502500000000001\n",
      "500000, 8: Surrogate vs Simulator y-space C2ST [wo first dimension]: 0.4819\n",
      "500000, 6: Surrogate vs Simulator y-space C2ST: 0.74375\n",
      "500000, 6: Surrogate vs Simulator y-space C2ST [wo first dimension]: 0.48705\n",
      "500000, 5: Surrogate vs Simulator y-space C2ST: 0.7593\n",
      "500000, 5: Surrogate vs Simulator y-space C2ST [wo first dimension]: 0.4756\n",
      "500000, 4: Surrogate vs Simulator y-space C2ST: 0.7537999999999999\n",
      "500000, 4: Surrogate vs Simulator y-space C2ST [wo first dimension]: 0.5005\n",
      "500000, 3: Surrogate vs Simulator y-space C2ST: 0.7526\n",
      "500000, 3: Surrogate vs Simulator y-space C2ST [wo first dimension]: 0.5166000000000001\n",
      "500000, 2: Surrogate vs Simulator y-space C2ST: 0.7741\n",
      "500000, 2: Surrogate vs Simulator y-space C2ST [wo first dimension]: 0.49640000000000006\n",
      "500000, 1: Surrogate vs Simulator y-space C2ST: 0.7389\n",
      "500000, 1: Surrogate vs Simulator y-space C2ST [wo first dimension]: 0.4648\n"
     ]
    }
   ],
   "source": [
    "for bidx, b in enumerate(BUDGETS):\n",
    "    for iidx, num_iters in enumerate(ITERS):\n",
    "        for seed_idx, seed in enumerate(SEEDS[simulator]):\n",
    "            #print(f\"budget: {b} iters: {num_iters} seed: {seed}\")\n",
    "            path = path_to_surrogate(base_path_aggregate, simulator, b, num_iters, seed)\n",
    "            if not os.path.exists(path):\n",
    "                print(f\"Could not find file: {path}\")\n",
    "                continue\n",
    "                \n",
    "            # initialize and load surrogate\n",
    "            surrogate = HHSurro(hidden_layer_dim=cfg.surrogate.hidden_layer_dim, xdim=cfg.surrogate.xdim, ydim=cfg.surrogate.ydim).to(device)\n",
    "            state_dict = torch.load(path, weights_only=True)\n",
    "            surrogate.load_state_dict(state_dict)\n",
    "            surrogate = surrogate.to(device)\n",
    "\n",
    "            # compute c2st\n",
    "            surrogate.eval()\n",
    "            with torch.no_grad():\n",
    "                # surrogate generated observations from the above 2 sets of 10k normalized thetas\n",
    "                gt_surrogate = surrogate.sample(context=gt_source.to(device))  # forward pass produces standardized x-s\n",
    "\n",
    "            current_c2st = np.mean(c2st_scores(gt_simulator, gt_surrogate.cpu())) # both are standardized, on cpu\n",
    "            current_c2st_wo_first = np.mean(c2st_scores(gt_simulator[:, 1:], gt_surrogate.cpu()[:, 1:] )) # both are standardized\n",
    "            if seed == 12235:\n",
    "                print(f\"{b}, {num_iters}: Surrogate vs Simulator y-space C2ST: {current_c2st}\")\n",
    "                print(f\"{b}, {num_iters}: Surrogate vs Simulator y-space C2ST [wo first dimension]: {current_c2st_wo_first}\")\n",
    "\n",
    "            c2st_array[bidx][iidx][seed_idx] = current_c2st\n",
    "            c2st_array_wo_first[bidx][iidx][seed_idx] = current_c2st_wo_first"
   ]
  },
  {
   "cell_type": "code",
   "execution_count": 20,
   "id": "dd8bdf27-1be9-4bf6-815b-ea525eac1bfd",
   "metadata": {},
   "outputs": [],
   "source": [
    "# SEEDS"
   ]
  },
  {
   "cell_type": "code",
   "execution_count": 21,
   "id": "2807297e-32f6-42bb-9bec-01a8fc2dfc26",
   "metadata": {},
   "outputs": [],
   "source": [
    "# average over seeds\n",
    "c2st_array_mean = c2st_array.mean(axis=2)\n",
    "c2st_array_std = np.std(c2st_array, axis=2)\n",
    "\n",
    "c2st_array_wo_first_mean = c2st_array_wo_first.mean(axis=2)\n",
    "c2st_array_wo_first_std = np.std(c2st_array_wo_first, axis=2)"
   ]
  },
  {
   "cell_type": "code",
   "execution_count": 22,
   "id": "06a68b4f-192a-4e35-a061-a0898816145c",
   "metadata": {},
   "outputs": [
    {
     "data": {
      "text/plain": [
       "array([0.833  , 0.81955, 0.83065, 0.8319 , 0.8303 ])"
      ]
     },
     "execution_count": 22,
     "metadata": {},
     "output_type": "execute_result"
    }
   ],
   "source": [
    "c2st_array[0,0]"
   ]
  },
  {
   "cell_type": "code",
   "execution_count": 23,
   "id": "260f0528-3862-44b8-816f-c005f6c0cdd0",
   "metadata": {},
   "outputs": [
    {
     "data": {
      "text/plain": [
       "np.float64(0.6415899999999999)"
      ]
     },
     "execution_count": 23,
     "metadata": {},
     "output_type": "execute_result"
    }
   ],
   "source": [
    "c2st_array_wo_first[0, 0].mean()"
   ]
  },
  {
   "cell_type": "code",
   "execution_count": 24,
   "id": "6a8ed3e1-24bc-44bf-a821-3e9d7837b01d",
   "metadata": {},
   "outputs": [
    {
     "data": {
      "text/plain": [
       "np.float64(0.6415899999999999)"
      ]
     },
     "execution_count": 24,
     "metadata": {},
     "output_type": "execute_result"
    }
   ],
   "source": [
    "c2st_array_wo_first_mean[0,0]"
   ]
  },
  {
   "cell_type": "code",
   "execution_count": 31,
   "id": "41479182-c17b-40e0-a15d-606f672f3e18",
   "metadata": {},
   "outputs": [
    {
     "data": {
      "image/png": "[encoded data removed]",
      "text/plain": [
       "<Figure size 1200x400 with 2 Axes>"
      ]
     },
     "metadata": {},
     "output_type": "display_data"
    }
   ],
   "source": [
    "simulator = \"Hodgkin-Huxley\"\n",
    "error_bars = True\n",
    "fig, axes = plt.subplots(nrows=1, ncols=2, figsize=(6*2, 4*1), gridspec_kw={'wspace':0.2,'hspace':0.5})\n",
    "plot_function(c2st_array, ax=axes[0], legend=False, error_bars=error_bars)\n",
    "\n",
    "plot_function(c2st_array_wo_first, ax=axes[1], legend=True, error_bars=error_bars)\n",
    "\n",
    "\n",
    "# plot_metric_multiple_budgets(base_path_aggregate, simulator, metric_idx=1, ax=axes[1], legend=True, error_bars=error_bars)\n"
   ]
  },
  {
   "cell_type": "code",
   "execution_count": 26,
   "id": "b3904491-4bb5-4558-bed7-2e069f534cb9",
   "metadata": {},
   "outputs": [],
   "source": [
    "def plot_function(array, budgets=BUDGETS, iters=ITERS, error_bars=False, legend=True, ax=None):\n",
    "    if ax is None:\n",
    "        fig, ax = plt.subplots(figsize=(6, 4))\n",
    "    colors = plt.rcParams['axes.prop_cycle'].by_key()['color']\n",
    "\n",
    "    meansarr = np.mean(array, axis=2)\n",
    "    stdsarr = np.std(array, axis=2)\n",
    "\n",
    "    for bidx, b in enumerate(budgets):\n",
    "        vals = meansarr[bidx]\n",
    "        stds = stdsarr[bidx]\n",
    "        if error_bars:\n",
    "            ax.errorbar(x=iters, y=vals, yerr=stds, color=colors[bidx], capsize=1.5, elinewidth=2, fmt='o', linestyle='-', label=f\"B={b:,}\")\n",
    "        else:\n",
    "            ax.plot(iters, vals, 'o-', color=colors[bidx], label=f\"B={b:,}\")\n",
    "\n",
    "\n",
    "    ax.set_title(f\"Simulator: {simulator}\")\n",
    "    ax.set_xlabel(\"Total #iterations\")\n",
    "    # ax.set_ylabel(METRICS_LABELS[METRICS_NAMES[metric_idx]])\n",
    "    if legend:\n",
    "        ax.legend(loc='center left', bbox_to_anchor=(1, 0.5))\n",
    "    "
   ]
  },
  {
   "cell_type": "code",
   "execution_count": 28,
   "id": "7ce53032-8ab7-4ec4-be95-0ad8ad16c1e0",
   "metadata": {},
   "outputs": [
    {
     "data": {
      "text/plain": [
       "array([[0.64159, 0.65106, 0.6334 , 0.65599, 0.66807, 0.65976, 0.66269,\n",
       "        0.65939],\n",
       "       [0.5798 , 0.59034, 0.58271, 0.59558, 0.59329, 0.597  , 0.59456,\n",
       "        0.61439],\n",
       "       [0.54881, 0.55048, 0.54884, 0.56561, 0.56407, 0.58215, 0.58137,\n",
       "        0.57399],\n",
       "       [0.52523, 0.52813, 0.53555, 0.52827, 0.54012, 0.53981, 0.5433 ,\n",
       "        0.55079],\n",
       "       [0.51064, 0.51025, 0.50904, 0.51909, 0.52573, 0.5158 , 0.52313,\n",
       "        0.50693],\n",
       "       [0.49769, 0.49957, 0.49021, 0.48544, 0.49753, 0.49766, 0.48205,\n",
       "        0.47981]])"
      ]
     },
     "execution_count": 28,
     "metadata": {},
     "output_type": "execute_result"
    }
   ],
   "source": [
    "c2st_array_wo_first_mean"
   ]
  },
  {
   "cell_type": "code",
   "execution_count": 29,
   "id": "1a994754-9235-4ce6-a035-f7eca099417d",
   "metadata": {},
   "outputs": [
    {
     "data": {
      "text/plain": [
       "array([[0.00698594, 0.00181725, 0.00662307, 0.00466105, 0.00986953,\n",
       "        0.00422391, 0.00624895, 0.00631486],\n",
       "       [0.01115504, 0.01027304, 0.00692672, 0.00493463, 0.00413756,\n",
       "        0.00794462, 0.00428385, 0.00877111],\n",
       "       [0.0103813 , 0.00924822, 0.00515843, 0.01877388, 0.00788154,\n",
       "        0.00880511, 0.01096948, 0.01633216],\n",
       "       [0.00932151, 0.00808249, 0.00409646, 0.00974452, 0.01525325,\n",
       "        0.00834766, 0.00977839, 0.00412109],\n",
       "       [0.00860572, 0.00883527, 0.00763187, 0.01361155, 0.01511127,\n",
       "        0.02154463, 0.01564898, 0.0087203 ],\n",
       "       [0.00659222, 0.01392083, 0.00382589, 0.01506995, 0.00605488,\n",
       "        0.01159126, 0.01654518, 0.01644413]])"
      ]
     },
     "execution_count": 29,
     "metadata": {},
     "output_type": "execute_result"
    }
   ],
   "source": [
    "c2st_array_wo_first_std"
   ]
  },
  {
   "cell_type": "code",
   "execution_count": null,
   "id": "63a2c587-90a8-469f-8e7a-e418b8120c1a",
   "metadata": {},
   "outputs": [],
   "source": []
  },
  {
   "cell_type": "code",
   "execution_count": null,
   "id": "1f837367-be81-466c-816f-f5869b4d8993",
   "metadata": {},
   "outputs": [],
   "source": []
  },
  {
   "cell_type": "code",
   "execution_count": null,
   "id": "01bed493-d719-4a28-92c9-27c502277652",
   "metadata": {},
   "outputs": [],
   "source": []
  },
  {
   "cell_type": "code",
   "execution_count": null,
   "id": "44e6d8dc-0df8-4337-88b6-f7cefb06c28e",
   "metadata": {},
   "outputs": [],
   "source": []
  },
  {
   "cell_type": "code",
   "execution_count": null,
   "id": "077929f2-3976-4e5d-9799-88cd21344b49",
   "metadata": {},
   "outputs": [],
   "source": []
  },
  {
   "cell_type": "code",
   "execution_count": null,
   "id": "8fd825ad-fcea-4d2d-a6bd-ed73d916efc1",
   "metadata": {},
   "outputs": [],
   "source": []
  },
  {
   "cell_type": "code",
   "execution_count": null,
   "id": "1ef951e3-000d-4671-9cce-65fa952134a1",
   "metadata": {},
   "outputs": [],
   "source": []
  },
  {
   "cell_type": "code",
   "execution_count": null,
   "id": "15b29e90-d589-4f7b-9492-48b0499cbd71",
   "metadata": {},
   "outputs": [],
   "source": []
  },
  {
   "cell_type": "code",
   "execution_count": null,
   "id": "3aee01ae-1484-4432-82bd-a8e3fc3468e0",
   "metadata": {},
   "outputs": [],
   "source": []
  },
  {
   "cell_type": "code",
   "execution_count": null,
   "id": "95708346-8bb5-41c0-a12e-21d43809ff45",
   "metadata": {},
   "outputs": [],
   "source": []
  },
  {
   "cell_type": "code",
   "execution_count": null,
   "id": "f1166cec-84a6-45cd-aa16-d867c361e287",
   "metadata": {},
   "outputs": [],
   "source": []
  },
  {
   "cell_type": "code",
   "execution_count": null,
   "id": "aac28e6e-e5c1-422b-8797-55a0b46f537b",
   "metadata": {},
   "outputs": [],
   "source": []
  },
  {
   "cell_type": "code",
   "execution_count": null,
   "id": "533a304f-df06-4a6c-b555-323d572cc020",
   "metadata": {},
   "outputs": [],
   "source": []
  },
  {
   "cell_type": "code",
   "execution_count": null,
   "id": "15cd85a9-5934-4353-8f09-1f82912e4083",
   "metadata": {},
   "outputs": [],
   "source": []
  },
  {
   "cell_type": "code",
   "execution_count": null,
   "id": "bbcca743-d399-46a2-97b7-1afcac493fe2",
   "metadata": {},
   "outputs": [],
   "source": []
  },
  {
   "cell_type": "code",
   "execution_count": null,
   "id": "c652b395-58ce-43fa-874a-81eb8f33b483",
   "metadata": {},
   "outputs": [],
   "source": []
  }
 ],
 "metadata": {
  "kernelspec": {
   "display_name": "Python 3 (ipykernel)",
   "language": "python",
   "name": "python3"
  },
  "language_info": {
   "codemirror_mode": {
    "name": "ipython",
    "version": 3
   },
   "file_extension": ".py",
   "mimetype": "text/x-python",
   "name": "python",
   "nbconvert_exporter": "python",
   "pygments_lexer": "ipython3",
   "version": "3.10.15"
  }
 },
 "nbformat": 4,
 "nbformat_minor": 5
}
