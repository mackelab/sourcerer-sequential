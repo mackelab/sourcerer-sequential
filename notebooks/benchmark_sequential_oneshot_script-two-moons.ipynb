{
 "cells": [
  {
   "cell_type": "code",
   "execution_count": 1,
   "id": "9008ac6f-aef6-440f-a2ef-1311cefc619e",
   "metadata": {},
   "outputs": [
    {
     "name": "stdout",
     "output_type": "stream",
     "text": [
      "/mnt/qb/work/macke/mwe102/.conda/sbi/bin/python\n",
      "Python 3.10.15\n",
      "/mnt/qb/work/macke/mwe102/sourcerer-sequential/notebooks\n"
     ]
    }
   ],
   "source": [
    "!which python; python --version; pwd"
   ]
  },
  {
   "cell_type": "code",
   "execution_count": 2,
   "id": "8c1de16d-017a-4834-824f-6c0f26b9dd68",
   "metadata": {},
   "outputs": [],
   "source": [
    "import os\n",
    "from time import time_ns; from datetime import datetime\n",
    "import numpy as np; import matplotlib.pyplot as plt\n",
    "import torch\n",
    "from corner import corner\n",
    "from omegaconf import OmegaConf as OC"
   ]
  },
  {
   "cell_type": "code",
   "execution_count": 3,
   "id": "107aae66-bb19-4867-bd7c-79b8605bec7c",
   "metadata": {},
   "outputs": [
    {
     "name": "stdout",
     "output_type": "stream",
     "text": [
      "run id: 20241106_084201\n"
     ]
    }
   ],
   "source": [
    "run_id = datetime.now().strftime(\"%Y%m%d_%H%M%S\")\n",
    "print(f'run id: {run_id}')"
   ]
  },
  {
   "cell_type": "code",
   "execution_count": 26,
   "id": "4dba39c3-c8ee-4e60-99fe-a195519891db",
   "metadata": {},
   "outputs": [
    {
     "name": "stdout",
     "output_type": "stream",
     "text": [
      "Wed Nov  6 09:02:29 2024       \n",
      "+---------------------------------------------------------------------------------------+\n",
      "| NVIDIA-SMI 535.104.12             Driver Version: 535.104.12   CUDA Version: 12.2     |\n",
      "|-----------------------------------------+----------------------+----------------------+\n",
      "| GPU  Name                 Persistence-M | Bus-Id        Disp.A | Volatile Uncorr. ECC |\n",
      "| Fan  Temp   Perf          Pwr:Usage/Cap |         Memory-Usage | GPU-Util  Compute M. |\n",
      "|                                         |                      |               MIG M. |\n",
      "|=========================================+======================+======================|\n",
      "|   0  NVIDIA GeForce RTX 2080 Ti     On  | 00000000:3D:00.0 Off |                  N/A |\n",
      "|  0%   32C    P8               1W / 250W |   6933MiB / 11264MiB |      0%      Default |\n",
      "|                                         |                      |                  N/A |\n",
      "+-----------------------------------------+----------------------+----------------------+\n",
      "                                                                                         \n",
      "+---------------------------------------------------------------------------------------+\n",
      "| Processes:                                                                            |\n",
      "|  GPU   GI   CI        PID   Type   Process name                            GPU Memory |\n",
      "|        ID   ID                                                             Usage      |\n",
      "|=======================================================================================|\n",
      "|    0   N/A  N/A   1388290      C   .../macke/mwe102/.conda/sbi/bin/python     2934MiB |\n",
      "|    0   N/A  N/A   1395321      C   .../macke/mwe102/.conda/sbi/bin/python     2932MiB |\n",
      "|    0   N/A  N/A   1460815      C   .../macke/mwe102/.conda/sbi/bin/python      222MiB |\n",
      "|    0   N/A  N/A   1469093      C   .../macke/mwe102/.conda/sbi/bin/python      842MiB |\n",
      "+---------------------------------------------------------------------------------------+\n"
     ]
    }
   ],
   "source": [
    "torch.cuda.empty_cache()\n",
    "!nvidia-smi"
   ]
  },
  {
   "cell_type": "code",
   "execution_count": 27,
   "id": "6131de54-246a-4cb6-b6c0-e6286ee1c377",
   "metadata": {},
   "outputs": [
    {
     "name": "stdout",
     "output_type": "stream",
     "text": [
      "using cuda\n"
     ]
    }
   ],
   "source": [
    "from sourcerer.fit_surrogate import (\n",
    "    create_train_val_dataloaders,\n",
    "    fit_conditional_normalizing_flow,\n",
    ")\n",
    "\n",
    "from sourcerer.likelihood_estimator import train_lml_source\n",
    "from sourcerer.real_nvp import (\n",
    "    Sampler,\n",
    "    RealNVPs,\n",
    "    TemperedUniform, # a little slanted uniform to make log-density well defined\n",
    "    kozachenko_leonenko_estimator,\n",
    ")\n",
    "\n",
    "from sourcerer.sbi_classifier_two_sample_test import c2st_scores\n",
    "from sourcerer.simulators import (\n",
    "    InverseKinematicsSimulator,\n",
    "    LotkaVolterraSimulator,\n",
    "    SIRSimulator,\n",
    "    SLCPSimulator,\n",
    "    TwoMoonsSimulator,\n",
    ")\n",
    "from sourcerer.sliced_wasserstein import sliced_wasserstein_distance\n",
    "from sourcerer.utils import (\n",
    "    save_cfg_as_yaml,\n",
    "    save_fig,\n",
    "    save_numpy_csv,\n",
    "    save_state_dict,\n",
    "    script_or_command_line_cfg,\n",
    "    set_seed,\n",
    ")\n",
    "from sourcerer.wasserstein_estimator import train_source\n",
    "\n",
    "device = torch.device(\"cuda\" if torch.cuda.is_available() else \"cpu\")\n",
    "print(f\"using {device}\")"
   ]
  },
  {
   "cell_type": "code",
   "execution_count": 28,
   "id": "6c5fa142-f0f0-42ef-ad99-24c0d02e868f",
   "metadata": {},
   "outputs": [],
   "source": [
    "def get_simulator(cfg):\n",
    "    if cfg.simulator.self == \"two_moons\":\n",
    "        return TwoMoonsSimulator()\n",
    "    elif cfg.simulator.self == \"inverse_kinematics\":\n",
    "        return InverseKinematicsSimulator()\n",
    "    elif cfg.simulator.self == \"slcp\":\n",
    "        return SLCPSimulator()\n",
    "    elif cfg.simulator.self == \"sir\":\n",
    "        return SIRSimulator()\n",
    "    elif cfg.simulator.self == \"lotka_volterra\":\n",
    "        return LotkaVolterraSimulator()"
   ]
  },
  {
   "cell_type": "code",
   "execution_count": 29,
   "id": "ba145ba6-1c04-411d-8472-7390cd1436d9",
   "metadata": {},
   "outputs": [],
   "source": [
    "# simulator_str = \"inverse_kinematics\"\n",
    "# simulator_str = \"slcp\"\n",
    "simulator_str = \"two_moons\""
   ]
  },
  {
   "cell_type": "code",
   "execution_count": 9,
   "id": "6c134c42-df82-4ab0-bb31-ffdc008324e2",
   "metadata": {},
   "outputs": [
    {
     "name": "stdout",
     "output_type": "stream",
     "text": [
      "base:\n",
      "  tag: debug_20241106_084201\n",
      "  folder: sequential\n",
      "  base_path: ../results_sourcerer\n",
      "  seed: null\n",
      "simulator:\n",
      "  self: two_moons\n",
      "  box_domain_lower: -5.0\n",
      "  box_domain_upper: 5.0\n",
      "surrogate:\n",
      "  self: train_surrogate\n",
      "  flow_length: 8\n",
      "  hidden_layer_dim: 50\n",
      "  num_training_samples: 15000\n",
      "  nb_epochs: 1000\n",
      "  surrogate_lr: 0.0001\n",
      "  surrogate_weight_decay: 5.0e-05\n",
      "  early_stopping_patience: 50\n",
      "source_model:\n",
      "  self: sampler\n",
      "  num_hidden_layers: 3\n",
      "  hidden_layer_dim: 100\n",
      "source:\n",
      "  self: wasserstein\n",
      "  num_obs: 10000\n",
      "  num_eval_obs: 10000\n",
      "  wasserstein_slices: 500\n",
      "  wasserstein_order: 2\n",
      "  use_log_sw: true\n",
      "  num_chunks: 1\n",
      "  num_kole_samples: 512\n",
      "  pretraining_steps: 0\n",
      "  linear_decay_steps: 500\n",
      "  lambda_steps: 3000\n",
      "  fin_lambda: 0.3\n",
      "  learning_rate: 0.0001\n",
      "  weight_decay: 1.0e-05\n",
      "  early_stopping_patience: 500\n",
      "\n"
     ]
    }
   ],
   "source": [
    "# Define config\n",
    "# NOTE: These overrides only take effect if this script is run interactively\n",
    "local_overrides = [\n",
    "    f\"base.tag=debug_{run_id}\",\n",
    "    f\"base.folder=sequential\",# _{run_id}\",\n",
    "    f\"simulator={simulator_str}\",\n",
    "    \"surrogate.self=train_surrogate\",\n",
    "    \"+surrogate.num_training_samples=15000\",\n",
    "\n",
    "\"surrogate.flow_length=8\",\n",
    "\"surrogate.hidden_layer_dim=50\",\n",
    "\n",
    "\"+surrogate.nb_epochs=1000\",\n",
    "\"+surrogate.surrogate_lr=0.0001\",\n",
    "\"+surrogate.surrogate_weight_decay=0.00005\",\n",
    "\n",
    "\"+surrogate.early_stopping_patience=50\"\n",
    "]\n",
    "\n",
    "cfg = script_or_command_line_cfg(\n",
    "    config_name=\"config\",\n",
    "    config_path=\"../conf\",\n",
    "    local_overrides=local_overrides,\n",
    "    name=__name__,\n",
    ")\n",
    "\n",
    "assert cfg.base.tag is not None\n",
    "assert cfg.base.folder is not None\n",
    "\n",
    "print(OC.to_yaml(cfg))"
   ]
  },
  {
   "cell_type": "code",
   "execution_count": 10,
   "id": "2510ce65-99d5-448a-b7e3-c3704037bace",
   "metadata": {},
   "outputs": [
    {
     "name": "stdout",
     "output_type": "stream",
     "text": [
      "seed: 50134\n"
     ]
    }
   ],
   "source": [
    "# save the above config file in ../results_sourcerer/sequential directory\n",
    "save_cfg_as_yaml(\n",
    "    cfg,\n",
    "    f\"{cfg.base.tag}_cfg.yaml\",\n",
    "    folder=cfg.base.folder,\n",
    "    base_path=cfg.base.base_path,\n",
    ")\n",
    "\n",
    "# set seed\n",
    "if cfg.base.seed is None:\n",
    "    random_random_seed = 50134 #np.random.randint(2**16)\n",
    "    set_seed(random_random_seed)\n",
    "    save_numpy_csv(\n",
    "        np.array([random_random_seed], dtype=int),\n",
    "        file_name=f\"{cfg.base.tag}_seed.csv\",\n",
    "        folder=cfg.base.folder,\n",
    "        base_path=cfg.base.base_path,\n",
    "    )\n",
    "    print(f\"seed: {random_random_seed}\")\n",
    "else:\n",
    "    set_seed(cfg.base.seed)"
   ]
  },
  {
   "cell_type": "code",
   "execution_count": 30,
   "id": "197c8290-1df6-4598-b8b3-677061e109c5",
   "metadata": {},
   "outputs": [
    {
     "name": "stdout",
     "output_type": "stream",
     "text": [
      "θ/parameter dimension: 2\n",
      "x/observation dimension: 2\n"
     ]
    }
   ],
   "source": [
    "# Define Simulator and reference domain. Train a surrogate/load an existing surrogate if necessary.\n",
    "simulator = get_simulator(cfg)\n",
    "simulator = simulator.to(device)\n",
    "\n",
    "## this is the initial distribution to sample theta from to train the surrogate\n",
    "box_domain = TemperedUniform(\n",
    "    cfg.simulator.box_domain_lower,\n",
    "    cfg.simulator.box_domain_upper,\n",
    "    simulator.xdim,\n",
    "    device=device,\n",
    ")\n",
    "\n",
    "# notation here: θ (which is x here), and x (which is x here) \n",
    "print(f\"θ/parameter dimension: {simulator.xdim}\")\n",
    "print(f\"x/observation dimension: {simulator.ydim}\")"
   ]
  },
  {
   "cell_type": "code",
   "execution_count": 31,
   "id": "61f4891c-1ffb-4325-920f-7b8dfadbf3b6",
   "metadata": {},
   "outputs": [],
   "source": [
    "surrogate = RealNVPs(\n",
    "    flow_length=cfg.surrogate.flow_length, # 1 RealNVP layer\n",
    "    data_dim=simulator.ydim,    # this is x ~ p(x|theta)\n",
    "    context_dim=simulator.xdim, # this is theta! okay so context dim is theta's dimension\n",
    "    hidden_layer_dim=cfg.surrogate.hidden_layer_dim # 5,\n",
    ")\n",
    "surrogate = surrogate.to(device)\n",
    "\n",
    "surro_optimizer = torch.optim.Adam(\n",
    "    surrogate.parameters(),\n",
    "    lr=cfg.surrogate.surrogate_lr, # 0.0001\n",
    "    weight_decay=cfg.surrogate.surrogate_weight_decay, # 0.00005\n",
    ")\n",
    "\n",
    "assert cfg.surrogate.self == \"train_surrogate\""
   ]
  },
  {
   "cell_type": "code",
   "execution_count": null,
   "id": "7bc87cb9-f006-474a-a598-22e6756701e5",
   "metadata": {},
   "outputs": [],
   "source": []
  },
  {
   "cell_type": "code",
   "execution_count": 32,
   "id": "da96aa17-3369-48fe-8d7f-5405918f835f",
   "metadata": {},
   "outputs": [
    {
     "name": "stdout",
     "output_type": "stream",
     "text": [
      "NUMBER_OF_ITERATIONS=1\n",
      "MINIMUM_SAMPLES_PER_ITERATION=2000\n"
     ]
    }
   ],
   "source": [
    "# add this to the config later, create a folder called `sequential`\n",
    "TOTAL_SIMULATION_BUDGET = 2000 #cfg.surrogate.num_training_samples # 15000 -> variable\n",
    "NUMBER_OF_ITERATIONS = 1\n",
    "MINIMUM_SAMPLES_PER_ITERATION = TOTAL_SIMULATION_BUDGET // NUMBER_OF_ITERATIONS\n",
    "# NUMBER_OF_ITERATIONS = TOTAL_SIMULATION_BUDGET // MINIMUM_SAMPLES_PER_ITERATION\n",
    "print(f\"{NUMBER_OF_ITERATIONS=}\")\n",
    "print(f\"{MINIMUM_SAMPLES_PER_ITERATION=}\")\n",
    "\n",
    "# high simulation budget vs. low simulation budget (2000)\n",
    "# low simulation budget -- iterative method"
   ]
  },
  {
   "cell_type": "code",
   "execution_count": 33,
   "id": "30e4e161-c35e-4e64-ad68-5af7c2d6d226",
   "metadata": {},
   "outputs": [
    {
     "name": "stdout",
     "output_type": "stream",
     "text": [
      "Sliced wassertein distance on groundtruth y:\n",
      "expected/baseline swd: 0.009950327686965466, log of that: -4.610149794990564\n"
     ]
    }
   ],
   "source": [
    "## used for evaluation of surrogate and estimated source later\n",
    "gt_source = simulator.sample_prior(cfg.source.num_obs)          # 10k thetas from true source distribution\n",
    "gt_source_two = simulator.sample_prior(cfg.source.num_eval_obs) # 10k thetas for validation\n",
    "\n",
    "with torch.no_grad():\n",
    "    # simulator generated observations/pfs from the above 2 sets of 10k thetas\n",
    "    gt_simulator = simulator.sample(context=gt_source)\n",
    "    gt_simulator_two = simulator.sample(context=gt_source_two)\n",
    "\n",
    "print(\"Sliced wassertein distance on groundtruth y:\")\n",
    "excepted_distance = sliced_wasserstein_distance(\n",
    "    gt_simulator[: cfg.source.num_eval_obs],  # from theta1\n",
    "    gt_simulator_two,                         # from theta2 (both ground truth)\n",
    "    num_projections=4096,\n",
    "    device=device,\n",
    ").item()\n",
    "print(f\"expected/baseline swd: {excepted_distance}, log of that: {np.log(excepted_distance)}\")"
   ]
  },
  {
   "cell_type": "code",
   "execution_count": 34,
   "id": "af04d225-8192-41a2-ab7e-8bc892189f0e",
   "metadata": {},
   "outputs": [
    {
     "name": "stdout",
     "output_type": "stream",
     "text": [
      "init sampler source\n"
     ]
    }
   ],
   "source": [
    "## define source model\n",
    "if cfg.source_model.self == \"sampler\":\n",
    "    # easier to scale, used in the paper\n",
    "    # note that Sampler() model does not have log-density evaluation\n",
    "    print(\"init sampler source\")\n",
    "    source = Sampler(\n",
    "        xdim=simulator.xdim,\n",
    "        input_noise_dim=simulator.xdim,\n",
    "        hidden_layer_dim=cfg.source_model.hidden_layer_dim,\n",
    "        num_hidden_layers=cfg.source_model.num_hidden_layers,\n",
    "        low=cfg.simulator.box_domain_lower,\n",
    "        high=cfg.simulator.box_domain_upper,\n",
    "    )\n",
    "elif cfg.source_model.self == \"real_nvp\":\n",
    "    source = RealNVPs(\n",
    "        data_dim=simulator.xdim,\n",
    "        context_dim=0,  # here we are not using it as a conditioning mechanism!\n",
    "        hidden_layer_dim=cfg.source_model.hidden_layer_dim,\n",
    "        flow_length=cfg.source_model.flow_length,\n",
    "        low=cfg.simulator.box_domain_lower,\n",
    "        high=cfg.simulator.box_domain_upper,\n",
    "    )\n",
    "else:\n",
    "    raise ValueError\n",
    "\n",
    "source = source.to(device)\n",
    "\n",
    "# Train source model\n",
    "optimizer = torch.optim.Adam(\n",
    "    source.parameters(),\n",
    "    lr=cfg.source.learning_rate,\n",
    "    weight_decay=cfg.source.weight_decay,\n",
    ")\n",
    "\n",
    "# This is the scheduled values of lambda - first we linearly decay from lambda=1.0 (only entropy) until a minimum value of lambda. Then we stay at that value of lambda for more iterations.\n",
    "schedule = torch.cat(\n",
    "    [\n",
    "        torch.ones(cfg.source.pretraining_steps),\n",
    "        torch.linspace(\n",
    "            1.0,\n",
    "            cfg.source.fin_lambda,\n",
    "            cfg.source.linear_decay_steps,\n",
    "        ),\n",
    "        cfg.source.fin_lambda * torch.ones(cfg.source.lambda_steps),\n",
    "    ]\n",
    ")"
   ]
  },
  {
   "cell_type": "code",
   "execution_count": 35,
   "id": "17926213-8061-4266-ac65-677c3419c3a4",
   "metadata": {},
   "outputs": [
    {
     "name": "stdout",
     "output_type": "stream",
     "text": [
      "ITERATION: 1/1 training with 2000 samples\n",
      "Epoch: 0, Train Loss: 13.34059510912214, Val Loss: 11.245866298675537\n",
      "Validation loss did not improve for 50 epochs, stopping training after 365 epochs.\n"
     ]
    },
    {
     "data": {
      "image/png": "[encoded data removed]",
      "text/plain": [
       "<Figure size 640x480 with 1 Axes>"
      ]
     },
     "metadata": {},
     "output_type": "display_data"
    },
    {
     "name": "stdout",
     "output_type": "stream",
     "text": [
      "Surrogate vs Simulator y-space C2ST AUC Iteration: 0: 0.5375\n",
      "Surrogate vs Simulator y-space SWD AUC Iteration: 0: 0.026147883385419846\n",
      "Epoch x Chunk: 0, Weighted Loss: 3.1866895150568144, Entropy loss: 3.1866895150568144, Wasser loss: -0.24243104457855225\n",
      "Epoch x Chunk: 500, Weighted Loss: 0.43356149327990123, Entropy loss: 1.2569513436454898, Wasser loss: 0.08068010956048965\n",
      "Epoch x Chunk: 1000, Weighted Loss: -0.025051741973345143, Entropy loss: 2.272769025799258, Wasser loss: -1.0098321437835693\n",
      "Epoch x Chunk: 1500, Weighted Loss: -1.6855904550528014, Entropy loss: 3.4606067649363492, Wasser loss: -3.891103506088257\n",
      "Epoch x Chunk: 2000, Weighted Loss: -1.7209448306620998, Entropy loss: 3.480432064495904, Wasser loss: -3.950106382369995\n",
      "Training loss did not improve. Stopped training after 2414 epochs x chunks.\n",
      "y c2st AUC on simulator: 0.5377\n",
      "y c2st AUC on surrogate: 0.5218\n",
      "Source c2st AUC: 0.5949500000000001\n",
      "--__----__----__----__----__----__----__----__----__----__--\n"
     ]
    }
   ],
   "source": [
    "surro_train_domain_distribution = box_domain  # initialization\n",
    "iteration = 0\n",
    "\n",
    "# start loop here, don't initialize surrogate again!\n",
    "for _ in range(NUMBER_OF_ITERATIONS):\n",
    "    print(f\"ITERATION: {iteration+1}/{NUMBER_OF_ITERATIONS} training with {MINIMUM_SAMPLES_PER_ITERATION} samples\")\n",
    "    surro_train_domain = surro_train_domain_distribution.sample(MINIMUM_SAMPLES_PER_ITERATION).detach()#?\n",
    "    surro_train_push_forward = simulator.sample(surro_train_domain) # real simulator, budget\n",
    "    \n",
    "\n",
    "    train_dataset, val_dataset = create_train_val_dataloaders(\n",
    "        surro_train_push_forward, # observations: x\n",
    "        surro_train_domain,       #   parameters: θ\n",
    "    )\n",
    "\n",
    "    train_loss, val_loss = fit_conditional_normalizing_flow(\n",
    "        network=surrogate,\n",
    "        optimizer=surro_optimizer,\n",
    "        training_dataset=train_dataset,\n",
    "        validation_dataset=val_dataset,\n",
    "        nb_epochs=cfg.surrogate.nb_epochs,#//NUMBER_OF_ITERATIONS, ## shall we cut down on epochs?\n",
    "        early_stopping_patience=cfg.surrogate.early_stopping_patience,\n",
    "        print_every=500,\n",
    "    )\n",
    "    \n",
    "    \n",
    "    if iteration == NUMBER_OF_ITERATIONS-1:\n",
    "        # only save the final surrogate\n",
    "        torch.save(\n",
    "            surrogate.state_dict(),\n",
    "            os.path.join(\n",
    "                cfg.base.base_path, cfg.base.folder, f\"{cfg.base.tag}_surrogate_{iteration}.pt\"\n",
    "            ),\n",
    "        )\n",
    "    \n",
    "    plt.plot(train_loss, label=f\"train loss (iter {iteration+1}/{NUMBER_OF_ITERATIONS})\")\n",
    "    plt.plot(val_loss, label=f\"validation loss (iter {iteration+1}/{NUMBER_OF_ITERATIONS})\")\n",
    "    plt.legend()\n",
    "    plt.show()\n",
    "    \n",
    "    # evaluate the current surrogate\n",
    "    surrogate.eval()\n",
    "    with torch.no_grad():\n",
    "        # surrogate generated observations from the above 2 sets of 10k thetas\n",
    "        gt_surrogate = surrogate.sample(size=cfg.source.num_obs, context=gt_source)\n",
    "        gt_surrogate_two = surrogate.sample(size=cfg.source.num_eval_obs, context=gt_source_two)\n",
    "    \n",
    "    current_c2st = np.mean(c2st_scores(gt_simulator.cpu(), gt_surrogate.cpu()))\n",
    "    current_swd = sliced_wasserstein_distance(gt_simulator, gt_surrogate,\n",
    "                                              num_projections=4096, device=device\n",
    "                                             ).item()\n",
    "    \n",
    "    print(f\"Surrogate vs Simulator y-space C2ST AUC Iteration: {iteration}: {current_c2st}\")\n",
    "    print(f\"Surrogate vs Simulator y-space SWD AUC Iteration: {iteration}: {current_swd}\")\n",
    "    \n",
    "    \n",
    "    # now fit a source with this new surrogate\n",
    "    train_source(\n",
    "        data=gt_simulator, # observations sampled using simulator.sample(context=gt_source)\n",
    "        source_model=source,\n",
    "        simulator=surrogate,  ##### ALWAYS PASSING SURROGATE HERE!!!\n",
    "        optimizer=optimizer,\n",
    "        entro_dist=None,  # default uniform is used\n",
    "        kld_samples=cfg.source.num_kole_samples, # 512\n",
    "        entro_lambda=schedule,\n",
    "        wasser_p=cfg.source.wasserstein_order,   # 2\n",
    "        wasser_np=cfg.source.wasserstein_slices, # 500\n",
    "        use_log_sw=cfg.source.use_log_sw,   # True => log_or_id = torch.log\n",
    "        num_chunks=cfg.source.num_chunks,   # 1\n",
    "        epochs=cfg.source.pretraining_steps # 0\n",
    "        + cfg.source.linear_decay_steps     # 500\n",
    "        + cfg.source.lambda_steps,          # 3000\n",
    "        min_epochs_x_chus=cfg.source.pretraining_steps + cfg.source.linear_decay_steps,\n",
    "        early_stopping_patience=cfg.source.early_stopping_patience, # 500\n",
    "        device=device,\n",
    "        print_every=500,\n",
    "    )\n",
    "    \n",
    "    # Evaluate trained source model\n",
    "    source.eval()\n",
    "    surrogate.eval()\n",
    "    with torch.no_grad():\n",
    "        # sample some θ-s from the estimated source\n",
    "        estimated_source = source.sample(cfg.source.num_eval_obs)\n",
    "        # sample some x-s from those θ-s from the surrogate (pushforward using surrogate)\n",
    "        surro_estimated_pf = surrogate.sample(cfg.source.num_eval_obs, estimated_source)\n",
    "        # sample some x-s from those θ-s from the actual simulator (pushforward using true simulator)\n",
    "        simu_estimated_pf = simulator.sample(estimated_source)\n",
    "    \n",
    "    \n",
    "    # Classifier two sample tests\n",
    "    \n",
    "    simu_c2st = np.mean(c2st_scores(simu_estimated_pf.cpu(), gt_simulator_two.cpu(), ))\n",
    "    print(f\"y c2st AUC on simulator: {simu_c2st}\")\n",
    "    \n",
    "    surro_c2st = np.mean(\n",
    "        c2st_scores(\n",
    "            surro_estimated_pf.cpu(),\n",
    "            gt_surrogate.cpu(),\n",
    "        )\n",
    "    )\n",
    "    print(f\"y c2st AUC on surrogate: {surro_c2st}\")\n",
    "    \n",
    "    source_c2st = np.mean(\n",
    "        c2st_scores( # samples of thetas\n",
    "            estimated_source.cpu(),\n",
    "            gt_source_two.cpu(),\n",
    "        )\n",
    "    )\n",
    "    print(f\"Source c2st AUC: {source_c2st}\")\n",
    "    \n",
    "    \n",
    "    ## update the source for next iteration of updating the surrogate\n",
    "    iteration += 1\n",
    "    surro_train_domain_distribution = source\n",
    "    print(\"--__--\"*10)"
   ]
  },
  {
   "cell_type": "code",
   "execution_count": 38,
   "id": "3c63d19d-cad8-47d3-90a7-06fbf739ab42",
   "metadata": {},
   "outputs": [
    {
     "name": "stdout",
     "output_type": "stream",
     "text": [
      "Wed Nov  6 09:22:05 2024       \n",
      "+---------------------------------------------------------------------------------------+\n",
      "| NVIDIA-SMI 535.104.12             Driver Version: 535.104.12   CUDA Version: 12.2     |\n",
      "|-----------------------------------------+----------------------+----------------------+\n",
      "| GPU  Name                 Persistence-M | Bus-Id        Disp.A | Volatile Uncorr. ECC |\n",
      "| Fan  Temp   Perf          Pwr:Usage/Cap |         Memory-Usage | GPU-Util  Compute M. |\n",
      "|                                         |                      |               MIG M. |\n",
      "|=========================================+======================+======================|\n",
      "|   0  NVIDIA GeForce RTX 2080 Ti     On  | 00000000:3D:00.0 Off |                  N/A |\n",
      "|  0%   38C    P2              47W / 250W |   6881MiB / 11264MiB |     13%      Default |\n",
      "|                                         |                      |                  N/A |\n",
      "+-----------------------------------------+----------------------+----------------------+\n",
      "                                                                                         \n",
      "+---------------------------------------------------------------------------------------+\n",
      "| Processes:                                                                            |\n",
      "|  GPU   GI   CI        PID   Type   Process name                            GPU Memory |\n",
      "|        ID   ID                                                             Usage      |\n",
      "|=======================================================================================|\n",
      "|    0   N/A  N/A   1388290      C   .../macke/mwe102/.conda/sbi/bin/python      258MiB |\n",
      "|    0   N/A  N/A   1395321      C   .../macke/mwe102/.conda/sbi/bin/python     2932MiB |\n",
      "|    0   N/A  N/A   1460815      C   .../macke/mwe102/.conda/sbi/bin/python      222MiB |\n",
      "|    0   N/A  N/A   1469093      C   .../macke/mwe102/.conda/sbi/bin/python      540MiB |\n",
      "|    0   N/A  N/A   1508139      C   .../macke/mwe102/.conda/sbi/bin/python     2926MiB |\n",
      "+---------------------------------------------------------------------------------------+\n"
     ]
    }
   ],
   "source": [
    "torch.cuda.empty_cache()\n",
    "!nvidia-smi"
   ]
  },
  {
   "cell_type": "code",
   "execution_count": null,
   "id": "27d747a6-d3bd-4f29-949b-5f062f4a4db9",
   "metadata": {},
   "outputs": [],
   "source": []
  },
  {
   "cell_type": "code",
   "execution_count": null,
   "id": "b270c24b-8717-404c-b7d1-887f222a81ab",
   "metadata": {},
   "outputs": [],
   "source": []
  }
 ],
 "metadata": {
  "kernelspec": {
   "display_name": "Python 3 (ipykernel)",
   "language": "python",
   "name": "python3"
  },
  "language_info": {
   "codemirror_mode": {
    "name": "ipython",
    "version": 3
   },
   "file_extension": ".py",
   "mimetype": "text/x-python",
   "name": "python",
   "nbconvert_exporter": "python",
   "pygments_lexer": "ipython3",
   "version": "3.10.15"
  }
 },
 "nbformat": 4,
 "nbformat_minor": 5
}
