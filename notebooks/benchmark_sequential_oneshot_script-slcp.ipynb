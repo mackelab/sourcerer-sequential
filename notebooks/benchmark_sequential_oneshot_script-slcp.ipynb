{
 "cells": [
  {
   "cell_type": "code",
   "execution_count": 1,
   "id": "9008ac6f-aef6-440f-a2ef-1311cefc619e",
   "metadata": {},
   "outputs": [
    {
     "name": "stdout",
     "output_type": "stream",
     "text": [
      "/mnt/qb/work/macke/mwe102/.conda/sbi/bin/python\n",
      "Python 3.10.15\n",
      "/mnt/qb/work/macke/mwe102/sourcerer-sequential/notebooks\n"
     ]
    }
   ],
   "source": [
    "!which python; python --version; pwd"
   ]
  },
  {
   "cell_type": "code",
   "execution_count": 120,
   "id": "8c1de16d-017a-4834-824f-6c0f26b9dd68",
   "metadata": {},
   "outputs": [],
   "source": [
    "import os\n",
    "from time import time_ns; from datetime import datetime\n",
    "import numpy as np; import matplotlib.pyplot as plt\n",
    "import torch\n",
    "from corner import corner\n",
    "from omegaconf import OmegaConf as OC"
   ]
  },
  {
   "cell_type": "code",
   "execution_count": 121,
   "id": "107aae66-bb19-4867-bd7c-79b8605bec7c",
   "metadata": {},
   "outputs": [
    {
     "name": "stdout",
     "output_type": "stream",
     "text": [
      "run id: 20241116_171907\n"
     ]
    }
   ],
   "source": [
    "run_id = datetime.now().strftime(\"%Y%m%d_%H%M%S\")\n",
    "print(f'run id: {run_id}')"
   ]
  },
  {
   "cell_type": "code",
   "execution_count": 122,
   "id": "4dba39c3-c8ee-4e60-99fe-a195519891db",
   "metadata": {},
   "outputs": [
    {
     "name": "stdout",
     "output_type": "stream",
     "text": [
      "Sat Nov 16 17:19:09 2024       \n",
      "+---------------------------------------------------------------------------------------+\n",
      "| NVIDIA-SMI 535.104.12             Driver Version: 535.104.12   CUDA Version: 12.2     |\n",
      "|-----------------------------------------+----------------------+----------------------+\n",
      "| GPU  Name                 Persistence-M | Bus-Id        Disp.A | Volatile Uncorr. ECC |\n",
      "| Fan  Temp   Perf          Pwr:Usage/Cap |         Memory-Usage | GPU-Util  Compute M. |\n",
      "|                                         |                      |               MIG M. |\n",
      "|=========================================+======================+======================|\n",
      "|   0  NVIDIA GeForce RTX 2080 Ti     On  | 00000000:DB:00.0 Off |                  N/A |\n",
      "|  0%   52C    P2             134W / 250W |   4733MiB / 11264MiB |     43%      Default |\n",
      "|                                         |                      |                  N/A |\n",
      "+-----------------------------------------+----------------------+----------------------+\n",
      "                                                                                         \n",
      "+---------------------------------------------------------------------------------------+\n",
      "| Processes:                                                                            |\n",
      "|  GPU   GI   CI        PID   Type   Process name                            GPU Memory |\n",
      "|        ID   ID                                                             Usage      |\n",
      "|=======================================================================================|\n",
      "|    0   N/A  N/A    690661      C   .../macke/mwe102/.conda/sbi/bin/python     4470MiB |\n",
      "|    0   N/A  N/A    700021      C   .../macke/mwe102/.conda/sbi/bin/python      260MiB |\n",
      "+---------------------------------------------------------------------------------------+\n"
     ]
    }
   ],
   "source": [
    "torch.cuda.empty_cache()\n",
    "!nvidia-smi"
   ]
  },
  {
   "cell_type": "code",
   "execution_count": 123,
   "id": "6131de54-246a-4cb6-b6c0-e6286ee1c377",
   "metadata": {},
   "outputs": [
    {
     "name": "stdout",
     "output_type": "stream",
     "text": [
      "using cuda\n"
     ]
    }
   ],
   "source": [
    "from sourcerer.fit_surrogate import (\n",
    "    create_train_val_dataloaders,\n",
    "    fit_conditional_normalizing_flow,\n",
    ")\n",
    "\n",
    "from sourcerer.likelihood_estimator import train_lml_source\n",
    "from sourcerer.real_nvp import (\n",
    "    Sampler,\n",
    "    RealNVPs,\n",
    "    TemperedUniform, # a little slanted uniform to make log-density well defined\n",
    "    kozachenko_leonenko_estimator,\n",
    ")\n",
    "\n",
    "from sourcerer.sbi_classifier_two_sample_test import c2st_scores\n",
    "from sourcerer.simulators import (\n",
    "    InverseKinematicsSimulator,\n",
    "    LotkaVolterraSimulator,\n",
    "    SIRSimulator,\n",
    "    SLCPSimulator,\n",
    "    TwoMoonsSimulator,\n",
    ")\n",
    "from sourcerer.sliced_wasserstein import sliced_wasserstein_distance\n",
    "from sourcerer.utils import (\n",
    "    save_cfg_as_yaml,\n",
    "    save_fig,\n",
    "    save_numpy_csv,\n",
    "    save_state_dict,\n",
    "    script_or_command_line_cfg,\n",
    "    set_seed,\n",
    ")\n",
    "from sourcerer.wasserstein_estimator import train_source\n",
    "\n",
    "device = torch.device(\"cuda\" if torch.cuda.is_available() else \"cpu\")\n",
    "print(f\"using {device}\")"
   ]
  },
  {
   "cell_type": "code",
   "execution_count": 124,
   "id": "6c5fa142-f0f0-42ef-ad99-24c0d02e868f",
   "metadata": {},
   "outputs": [],
   "source": [
    "def get_simulator(cfg):\n",
    "    if cfg.simulator.self == \"two_moons\":\n",
    "        return TwoMoonsSimulator()\n",
    "    elif cfg.simulator.self == \"inverse_kinematics\":\n",
    "        return InverseKinematicsSimulator()\n",
    "    elif cfg.simulator.self == \"slcp\":\n",
    "        return SLCPSimulator()\n",
    "    elif cfg.simulator.self == \"sir\":\n",
    "        return SIRSimulator()\n",
    "    elif cfg.simulator.self == \"lotka_volterra\":\n",
    "        return LotkaVolterraSimulator()"
   ]
  },
  {
   "cell_type": "code",
   "execution_count": 125,
   "id": "ba145ba6-1c04-411d-8472-7390cd1436d9",
   "metadata": {},
   "outputs": [],
   "source": [
    "# simulator_str = \"inverse_kinematics\"\n",
    "simulator_str = \"slcp\"\n",
    "# simulator_str = \"two_moons\""
   ]
  },
  {
   "cell_type": "code",
   "execution_count": 126,
   "id": "6c134c42-df82-4ab0-bb31-ffdc008324e2",
   "metadata": {},
   "outputs": [
    {
     "name": "stdout",
     "output_type": "stream",
     "text": [
      "base:\n",
      "  tag: debug_20241116_171907\n",
      "  folder: sequential_slcp_oneshot\n",
      "  base_path: ../results_sourcerer\n",
      "  seed: null\n",
      "simulator:\n",
      "  self: slcp\n",
      "  box_domain_lower: -5.0\n",
      "  box_domain_upper: 5.0\n",
      "surrogate:\n",
      "  self: train_surrogate\n",
      "  flow_length: 8\n",
      "  hidden_layer_dim: 50\n",
      "  num_training_samples: 15000\n",
      "  nb_epochs: 5000\n",
      "  surrogate_lr: 0.0001\n",
      "  surrogate_weight_decay: 5.0e-05\n",
      "  early_stopping_patience: 50\n",
      "source_model:\n",
      "  self: sampler\n",
      "  num_hidden_layers: 3\n",
      "  hidden_layer_dim: 100\n",
      "source:\n",
      "  self: wasserstein\n",
      "  num_obs: 10000\n",
      "  num_eval_obs: 10000\n",
      "  wasserstein_slices: 500\n",
      "  wasserstein_order: 2\n",
      "  use_log_sw: true\n",
      "  num_chunks: 1\n",
      "  num_kole_samples: 512\n",
      "  pretraining_steps: 0\n",
      "  linear_decay_steps: 500\n",
      "  lambda_steps: 3000\n",
      "  fin_lambda: 0.35\n",
      "  learning_rate: 0.0001\n",
      "  weight_decay: 1.0e-05\n",
      "  early_stopping_patience: 500\n",
      "\n"
     ]
    }
   ],
   "source": [
    "# Define config\n",
    "# NOTE: These overrides only take effect if this script is run interactively\n",
    "local_overrides = [\n",
    "    f\"base.tag=debug_{run_id}\",\n",
    "    f\"base.folder=sequential_slcp_oneshot\",# _{run_id}\", # this creates a new folder specific to this run --> need to be unique when I run as script\n",
    "    f\"simulator={simulator_str}\",\n",
    "    \"surrogate.self=train_surrogate\",\n",
    "    \"+surrogate.num_training_samples=15000\",\n",
    "\n",
    "\"surrogate.flow_length=8\",\n",
    "\"surrogate.hidden_layer_dim=50\",\n",
    "\n",
    "\"+surrogate.nb_epochs=5000\",\n",
    "\"+surrogate.surrogate_lr=0.0001\",\n",
    "\"+surrogate.surrogate_weight_decay=0.00005\",\n",
    "\n",
    "\"+surrogate.early_stopping_patience=50\"\n",
    "]\n",
    "\n",
    "cfg = script_or_command_line_cfg(\n",
    "    config_name=\"config\",\n",
    "    config_path=\"../conf\",\n",
    "    local_overrides=local_overrides,\n",
    "    name=__name__,\n",
    ")\n",
    "\n",
    "assert cfg.base.tag is not None\n",
    "assert cfg.base.folder is not None\n",
    "\n",
    "print(OC.to_yaml(cfg))"
   ]
  },
  {
   "cell_type": "code",
   "execution_count": 127,
   "id": "2510ce65-99d5-448a-b7e3-c3704037bace",
   "metadata": {},
   "outputs": [
    {
     "name": "stdout",
     "output_type": "stream",
     "text": [
      "seed: 20367\n"
     ]
    }
   ],
   "source": [
    "# save the above config file in ../results_sourcerer/sequential directory\n",
    "save_cfg_as_yaml(\n",
    "    cfg,\n",
    "    f\"{cfg.base.tag}_cfg.yaml\",\n",
    "    folder=cfg.base.folder,\n",
    "    base_path=cfg.base.base_path,\n",
    ")\n",
    "\n",
    "# set seed\n",
    "if cfg.base.seed is None:\n",
    "    random_random_seed = 20367 #np.random.randint(2**16)\n",
    "    set_seed(random_random_seed)\n",
    "    save_numpy_csv(\n",
    "        np.array([random_random_seed], dtype=int),\n",
    "        file_name=f\"{cfg.base.tag}_seed.csv\",\n",
    "        folder=cfg.base.folder,\n",
    "        base_path=cfg.base.base_path,\n",
    "    )\n",
    "    print(f\"seed: {random_random_seed}\")\n",
    "else:\n",
    "    set_seed(cfg.base.seed)"
   ]
  },
  {
   "cell_type": "code",
   "execution_count": 128,
   "id": "197c8290-1df6-4598-b8b3-677061e109c5",
   "metadata": {},
   "outputs": [
    {
     "name": "stdout",
     "output_type": "stream",
     "text": [
      "θ/parameter dimension: 5\n",
      "x/observation dimension: 8\n"
     ]
    }
   ],
   "source": [
    "# Define Simulator and reference domain. Train a surrogate/load an existing surrogate if necessary.\n",
    "simulator = get_simulator(cfg)\n",
    "simulator = simulator.to(device)\n",
    "\n",
    "## this is the initial distribution to sample theta from to train the surrogate\n",
    "box_domain = TemperedUniform(\n",
    "    cfg.simulator.box_domain_lower,\n",
    "    cfg.simulator.box_domain_upper,\n",
    "    simulator.xdim,\n",
    "    device=device,\n",
    ")\n",
    "\n",
    "# notation here: θ (which is x here), and x (which is x here) \n",
    "print(f\"θ/parameter dimension: {simulator.xdim}\")\n",
    "print(f\"x/observation dimension: {simulator.ydim}\")"
   ]
  },
  {
   "cell_type": "code",
   "execution_count": 129,
   "id": "61f4891c-1ffb-4325-920f-7b8dfadbf3b6",
   "metadata": {},
   "outputs": [],
   "source": [
    "surrogate = RealNVPs(\n",
    "    flow_length=cfg.surrogate.flow_length, # 1 RealNVP layer\n",
    "    data_dim=simulator.ydim,    # this is x ~ p(x|theta)\n",
    "    context_dim=simulator.xdim, # this is theta! okay so context dim is theta's dimension\n",
    "    hidden_layer_dim=cfg.surrogate.hidden_layer_dim # 5,\n",
    ")\n",
    "surrogate = surrogate.to(device)\n",
    "\n",
    "surro_optimizer = torch.optim.Adam(\n",
    "    surrogate.parameters(),\n",
    "    lr=cfg.surrogate.surrogate_lr, # 0.0001\n",
    "    weight_decay=cfg.surrogate.surrogate_weight_decay, # 0.00005\n",
    ")\n",
    "\n",
    "assert cfg.surrogate.self == \"train_surrogate\""
   ]
  },
  {
   "cell_type": "code",
   "execution_count": 130,
   "id": "7bc87cb9-f006-474a-a598-22e6756701e5",
   "metadata": {},
   "outputs": [
    {
     "data": {
      "text/plain": [
       "0.35"
      ]
     },
     "execution_count": 130,
     "metadata": {},
     "output_type": "execute_result"
    }
   ],
   "source": [
    "cfg.source.fin_lambda"
   ]
  },
  {
   "cell_type": "code",
   "execution_count": 131,
   "id": "da96aa17-3369-48fe-8d7f-5405918f835f",
   "metadata": {},
   "outputs": [
    {
     "name": "stdout",
     "output_type": "stream",
     "text": [
      "NUMBER_OF_ITERATIONS=1\n",
      "MINIMUM_SAMPLES_PER_ITERATION=20000\n"
     ]
    }
   ],
   "source": [
    "# add this to the config later, create a folder called `sequential`\n",
    "TOTAL_SIMULATION_BUDGET = 20_000 #cfg.surrogate.num_training_samples # 15000 -> variable\n",
    "NUMBER_OF_ITERATIONS = 1\n",
    "MINIMUM_SAMPLES_PER_ITERATION = TOTAL_SIMULATION_BUDGET // NUMBER_OF_ITERATIONS\n",
    "# NUMBER_OF_ITERATIONS = TOTAL_SIMULATION_BUDGET // MINIMUM_SAMPLES_PER_ITERATION\n",
    "print(f\"{NUMBER_OF_ITERATIONS=}\")\n",
    "print(f\"{MINIMUM_SAMPLES_PER_ITERATION=}\")\n",
    "\n",
    "# high simulation budget vs. low simulation budget (2000)\n",
    "# low simulation budget -- iterative method"
   ]
  },
  {
   "cell_type": "code",
   "execution_count": 132,
   "id": "e2922e61-5698-4e99-9142-ea5ccee13ef6",
   "metadata": {},
   "outputs": [
    {
     "data": {
      "text/plain": [
       "array([20000])"
      ]
     },
     "execution_count": 132,
     "metadata": {},
     "output_type": "execute_result"
    }
   ],
   "source": [
    "BUDGET_SCHEDULER = np.ones(NUMBER_OF_ITERATIONS) / NUMBER_OF_ITERATIONS\n",
    "# BUDGET_SCHEDULER = np.array([0.4, 0.2, 0.15, 0.15, 0.1])\n",
    "BUDGET_PER_ITERATION = (BUDGET_SCHEDULER*TOTAL_SIMULATION_BUDGET).astype(int)\n",
    "BUDGET_PER_ITERATION"
   ]
  },
  {
   "cell_type": "code",
   "execution_count": 133,
   "id": "30e4e161-c35e-4e64-ad68-5af7c2d6d226",
   "metadata": {},
   "outputs": [
    {
     "name": "stdout",
     "output_type": "stream",
     "text": [
      "Sliced wassertein distance on groundtruth y:\n",
      "expected/baseline swd: 0.17703132331371307, log of that: -1.7314285941911898\n"
     ]
    }
   ],
   "source": [
    "## used for evaluation of surrogate and estimated source later\n",
    "gt_source = simulator.sample_prior(cfg.source.num_obs)          # 10k thetas from true source distribution\n",
    "gt_source_two = simulator.sample_prior(cfg.source.num_eval_obs) # 10k thetas for validation\n",
    "\n",
    "with torch.no_grad():\n",
    "    # simulator generated observations/pfs from the above 2 sets of 10k thetas\n",
    "    gt_simulator = simulator.sample(context=gt_source)\n",
    "    gt_simulator_two = simulator.sample(context=gt_source_two)\n",
    "\n",
    "print(\"Sliced wassertein distance on groundtruth y:\")\n",
    "excepted_distance = sliced_wasserstein_distance(\n",
    "    gt_simulator[: cfg.source.num_eval_obs],  # from theta1\n",
    "    gt_simulator_two,                         # from theta2 (both ground truth)\n",
    "    num_projections=4096,\n",
    "    device=device,\n",
    ").item()\n",
    "print(f\"expected/baseline swd: {excepted_distance}, log of that: {np.log(excepted_distance)}\")"
   ]
  },
  {
   "cell_type": "code",
   "execution_count": 134,
   "id": "af04d225-8192-41a2-ab7e-8bc892189f0e",
   "metadata": {},
   "outputs": [
    {
     "name": "stdout",
     "output_type": "stream",
     "text": [
      "init sampler source\n"
     ]
    },
    {
     "data": {
      "text/plain": [
       "tensor([1.0000, 0.9987, 0.9974,  ..., 0.3500, 0.3500, 0.3500])"
      ]
     },
     "execution_count": 134,
     "metadata": {},
     "output_type": "execute_result"
    }
   ],
   "source": [
    "## define source model\n",
    "if cfg.source_model.self == \"sampler\":\n",
    "    # easier to scale, used in the paper\n",
    "    # note that Sampler() model does not have log-density evaluation\n",
    "    print(\"init sampler source\")\n",
    "    source = Sampler(\n",
    "        xdim=simulator.xdim,\n",
    "        input_noise_dim=simulator.xdim,\n",
    "        hidden_layer_dim=cfg.source_model.hidden_layer_dim,\n",
    "        num_hidden_layers=cfg.source_model.num_hidden_layers,\n",
    "        low=cfg.simulator.box_domain_lower,\n",
    "        high=cfg.simulator.box_domain_upper,\n",
    "    )\n",
    "elif cfg.source_model.self == \"real_nvp\":\n",
    "    source = RealNVPs(\n",
    "        data_dim=simulator.xdim,\n",
    "        context_dim=0,  # here we are not using it as a conditioning mechanism!\n",
    "        hidden_layer_dim=cfg.source_model.hidden_layer_dim,\n",
    "        flow_length=cfg.source_model.flow_length,\n",
    "        low=cfg.simulator.box_domain_lower,\n",
    "        high=cfg.simulator.box_domain_upper,\n",
    "    )\n",
    "else:\n",
    "    raise ValueError\n",
    "\n",
    "source = source.to(device)\n",
    "\n",
    "# Train source model\n",
    "optimizer = torch.optim.Adam(\n",
    "    source.parameters(),\n",
    "    lr=cfg.source.learning_rate,\n",
    "    weight_decay=cfg.source.weight_decay,\n",
    ")\n",
    "\n",
    "# This is the scheduled values of lambda - first we linearly decay from lambda=1.0 (only entropy) until a minimum value of lambda. Then we stay at that value of lambda for more iterations.\n",
    "schedule = torch.cat(\n",
    "    [\n",
    "        torch.ones(cfg.source.pretraining_steps),\n",
    "        torch.linspace(\n",
    "            1.0,\n",
    "            cfg.source.fin_lambda,\n",
    "            cfg.source.linear_decay_steps,\n",
    "        ),\n",
    "        cfg.source.fin_lambda * torch.ones(cfg.source.lambda_steps),\n",
    "    ]\n",
    ")\n",
    "\n",
    "schedule"
   ]
  },
  {
   "cell_type": "code",
   "execution_count": 135,
   "id": "76a4b8c3-9f0b-4ff6-8f55-38e573f027f5",
   "metadata": {},
   "outputs": [
    {
     "data": {
      "text/plain": [
       "0"
      ]
     },
     "execution_count": 135,
     "metadata": {},
     "output_type": "execute_result"
    }
   ],
   "source": [
    "cfg.source.pretraining_steps"
   ]
  },
  {
   "cell_type": "code",
   "execution_count": 136,
   "id": "e57a87f6-2bf7-45bc-9afe-984dc15eed86",
   "metadata": {},
   "outputs": [
    {
     "name": "stdout",
     "output_type": "stream",
     "text": [
      "ITERATION: 1/1 training with 20000 samples\n",
      "Epoch: 0, Train Loss: 6416.475281730531, Val Loss: 1341.612564086914\n",
      "Epoch: 500, Train Loss: 18.863523301624117, Val Loss: 20.53451383113861\n",
      "Validation loss did not improve for 50 epochs, stopping training after 549 epochs.\n"
     ]
    },
    {
     "data": {
      "image/png": "[encoded data removed]",
      "text/plain": [
       "<Figure size 640x480 with 1 Axes>"
      ]
     },
     "metadata": {},
     "output_type": "display_data"
    },
    {
     "name": "stdout",
     "output_type": "stream",
     "text": [
      "Surrogate vs Simulator y-space C2ST AUC after iteration 0: 0.5254\n",
      "Surrogate vs Simulator y-space SWD AUC after iteration 0: 0.4240751564502716\n",
      "Epoch x Chunk: 0, Weighted Loss: 6.269183355996869, Entropy loss: 6.269183355996869, Wasser loss: 0.9353914856910706\n",
      "Epoch x Chunk: 500, Weighted Loss: -0.2786900740663705, Entropy loss: 1.6425944387217841, Wasser loss: -1.313227891921997\n",
      "Epoch x Chunk: 1000, Weighted Loss: -0.37854491101490995, Entropy loss: 1.5765601260079807, Wasser loss: -1.4312938451766968\n",
      "Epoch x Chunk: 1500, Weighted Loss: -0.4240392098817326, Entropy loss: 1.6410423598032464, Wasser loss: -1.536006212234497\n",
      "Epoch x Chunk: 2000, Weighted Loss: -0.46958736634355513, Entropy loss: 1.5660911765425825, Wasser loss: -1.5657219886779785\n",
      "Training loss did not improve. Stopped training after 2100 epochs x chunks.\n",
      "y c2st AUC on simulator: 0.5425500000000001\n",
      "y c2st AUC on surrogate: 0.54295\n",
      "Source c2st AUC: 0.7603000000000002\n",
      "Ground truth source entropy estimate: 9.165601713214292\n",
      "Estimated source entropy estimate: 9.724991682200882\n",
      "--__----__----__----__----__----__----__----__----__----__--\n"
     ]
    },
    {
     "data": {
      "image/png": "[encoded data removed]",
      "text/plain": [
       "<Figure size 640x480 with 1 Axes>"
      ]
     },
     "metadata": {},
     "output_type": "display_data"
    }
   ],
   "source": [
    "surro_train_domain_distribution = box_domain  # initialization\n",
    "train_losses = []\n",
    "val_losses = []\n",
    "train_source_losses = []\n",
    "\n",
    "iteration = 0\n",
    "# start loop here, don't initialize surrogate again!\n",
    "for _ in range(NUMBER_OF_ITERATIONS):\n",
    "    print(f\"ITERATION: {iteration+1}/{NUMBER_OF_ITERATIONS} training with {BUDGET_PER_ITERATION[_]} samples\")\n",
    "    surro_train_domain = surro_train_domain_distribution.sample(BUDGET_PER_ITERATION[_]).detach()#?\n",
    "    surro_train_push_forward = simulator.sample(surro_train_domain) # real simulator, budget\n",
    "    \n",
    "\n",
    "    train_dataset, val_dataset = create_train_val_dataloaders(\n",
    "        surro_train_push_forward, # observations: x\n",
    "        surro_train_domain,       #   parameters: θ\n",
    "    )\n",
    "\n",
    "    train_loss, val_loss = fit_conditional_normalizing_flow(\n",
    "        network=surrogate,\n",
    "        optimizer=surro_optimizer,\n",
    "        training_dataset=train_dataset,\n",
    "        validation_dataset=val_dataset,\n",
    "        nb_epochs=cfg.surrogate.nb_epochs,#//NUMBER_OF_ITERATIONS, ## shall we cut down on epochs?\n",
    "        early_stopping_patience=cfg.surrogate.early_stopping_patience,\n",
    "        print_every=500,\n",
    "    )\n",
    "\n",
    "    train_losses.extend(train_loss); val_losses.extend(val_loss) # concatenate losses across iterations\n",
    "    \n",
    "    if iteration == NUMBER_OF_ITERATIONS-1:\n",
    "        # only save the final surrogate\n",
    "        torch.save(\n",
    "            surrogate.state_dict(),\n",
    "            os.path.join(\n",
    "                cfg.base.base_path, cfg.base.folder, f\"{cfg.base.tag}_surrogate_{iteration}.pt\"\n",
    "            ),\n",
    "        )\n",
    "    \n",
    "    plt.plot(train_loss, label=f\"train loss (iter {iteration+1}/{NUMBER_OF_ITERATIONS})\")\n",
    "    plt.plot(val_loss, label=f\"validation loss (iter {iteration+1}/{NUMBER_OF_ITERATIONS})\")\n",
    "    plt.legend()\n",
    "    plt.show()\n",
    "    \n",
    "    # evaluate the current surrogate\n",
    "    surrogate.eval()\n",
    "    with torch.no_grad():\n",
    "        # surrogate generated observations from the above 2 sets of 10k thetas\n",
    "        gt_surrogate = surrogate.sample(size=cfg.source.num_obs, context=gt_source)\n",
    "        gt_surrogate_two = surrogate.sample(size=cfg.source.num_eval_obs, context=gt_source_two)\n",
    "    \n",
    "    current_c2st = np.mean(c2st_scores(gt_simulator.cpu(), gt_surrogate.cpu()))\n",
    "    current_swd = sliced_wasserstein_distance(gt_simulator, gt_surrogate,\n",
    "                                              num_projections=4096, device=device\n",
    "                                             ).item()\n",
    "    \n",
    "    print(f\"Surrogate vs Simulator y-space C2ST AUC after iteration {iteration}: {current_c2st}\")\n",
    "    print(f\"Surrogate vs Simulator y-space SWD AUC after iteration {iteration}: {current_swd}\")\n",
    "    \n",
    "    \n",
    "    # now fit a source with this new surrogate\n",
    "    train_source_loss = train_source(\n",
    "        data=gt_simulator, # observations sampled using simulator.sample(context=gt_source)\n",
    "        source_model=source,\n",
    "        simulator=surrogate,  ##### ALWAYS PASSING SURROGATE HERE!!!\n",
    "        optimizer=optimizer,\n",
    "        entro_dist=None,  # default uniform is used\n",
    "        kld_samples=cfg.source.num_kole_samples, # 512\n",
    "        entro_lambda=schedule,\n",
    "        wasser_p=cfg.source.wasserstein_order,   # 2\n",
    "        wasser_np=cfg.source.wasserstein_slices, # 500\n",
    "        use_log_sw=cfg.source.use_log_sw,   # True => log_or_id = torch.log\n",
    "        num_chunks=cfg.source.num_chunks,   # 1\n",
    "        epochs=cfg.source.pretraining_steps # 0\n",
    "        + cfg.source.linear_decay_steps     # 500\n",
    "        + cfg.source.lambda_steps,          # 3000\n",
    "        min_epochs_x_chus=cfg.source.pretraining_steps + cfg.source.linear_decay_steps,\n",
    "        early_stopping_patience=cfg.source.early_stopping_patience, # 500\n",
    "        device=device,\n",
    "        print_every=500,\n",
    "    )\n",
    "    train_source_losses.extend(train_source_loss)\n",
    "    \n",
    "    # Evaluate trained source model\n",
    "    source.eval()\n",
    "    surrogate.eval()\n",
    "    with torch.no_grad():\n",
    "        # sample some θ-s from the estimated source\n",
    "        estimated_source = source.sample(cfg.source.num_eval_obs)\n",
    "        # sample some x-s from those θ-s from the surrogate (pushforward using surrogate)\n",
    "        surro_estimated_pf = surrogate.sample(cfg.source.num_eval_obs, estimated_source)\n",
    "        # sample some x-s from those θ-s from the actual simulator (pushforward using true simulator)\n",
    "        simu_estimated_pf = simulator.sample(estimated_source)\n",
    "    \n",
    "    \n",
    "    # Classifier two sample tests\n",
    "    simu_c2st = np.mean(c2st_scores(simu_estimated_pf.cpu(), gt_simulator_two.cpu()))\n",
    "    print(f\"y c2st AUC on simulator: {simu_c2st}\")\n",
    "    \n",
    "    surro_c2st = np.mean(c2st_scores(surro_estimated_pf.cpu(), gt_surrogate_two.cpu()))\n",
    "    print(f\"y c2st AUC on surrogate: {surro_c2st}\")\n",
    "    \n",
    "    source_c2st = np.mean(\n",
    "        c2st_scores( # 2 `sets` of samples of thetas, from the estimated and the ground truth sources\n",
    "            estimated_source.cpu(),\n",
    "            gt_source_two.cpu(),\n",
    "        )\n",
    "    )\n",
    "    print(f\"Source c2st AUC: {source_c2st}\")\n",
    "\n",
    "    # print(\"Estimate source entropies\")\n",
    "    gt_source_kole = kozachenko_leonenko_estimator(gt_source_two, on_torus=False).item()\n",
    "    estimated_source_kole = kozachenko_leonenko_estimator(\n",
    "        estimated_source, on_torus=False\n",
    "    ).item()\n",
    "    \n",
    "    print(f\"Ground truth source entropy estimate: {gt_source_kole}\")\n",
    "    print(f\"Estimated source entropy estimate: {estimated_source_kole}\")\n",
    "\n",
    "\n",
    "    ## update the source for next iteration of updating the surrogate\n",
    "    iteration += 1\n",
    "    surro_train_domain_distribution = source\n",
    "    print(\"--__--\"*10)\n",
    "\n",
    "plt.plot(train_source_losses, label=f\"source training loss\")\n",
    "plt.legend()\n",
    "plt.show()"
   ]
  },
  {
   "cell_type": "code",
   "execution_count": null,
   "id": "f9105bac-8339-4520-aef6-4e23665152bb",
   "metadata": {},
   "outputs": [],
   "source": []
  },
  {
   "cell_type": "code",
   "execution_count": null,
   "id": "92383d52-8fae-4210-88df-97dc3b2707ce",
   "metadata": {},
   "outputs": [],
   "source": []
  },
  {
   "cell_type": "code",
   "execution_count": null,
   "id": "af823bd2-22f7-488b-aeef-987be3b8ba58",
   "metadata": {},
   "outputs": [],
   "source": []
  },
  {
   "cell_type": "code",
   "execution_count": null,
   "id": "48a44b22-e879-4a30-9641-bcad14a70c42",
   "metadata": {},
   "outputs": [],
   "source": []
  },
  {
   "cell_type": "code",
   "execution_count": null,
   "id": "c7c1df7d-3363-4fa6-bac3-9dc24f1de09c",
   "metadata": {},
   "outputs": [],
   "source": []
  },
  {
   "cell_type": "code",
   "execution_count": null,
   "id": "93f2f36e-8110-4c1f-b865-d11b6ab4857f",
   "metadata": {},
   "outputs": [],
   "source": []
  },
  {
   "cell_type": "markdown",
   "id": "41be97d3-1c48-4cac-8f84-0abc1b381e20",
   "metadata": {},
   "source": [
    "# 15000 oneshot"
   ]
  },
  {
   "cell_type": "code",
   "execution_count": 119,
   "id": "533ca1ca-f9c1-4c08-984e-709df51a7d22",
   "metadata": {},
   "outputs": [
    {
     "name": "stdout",
     "output_type": "stream",
     "text": [
      "ITERATION: 1/1 training with 15000 samples\n",
      "Epoch: 0, Train Loss: 13676.999236411237, Val Loss: 1698.7649180094402\n",
      "Epoch: 500, Train Loss: 20.147718510729202, Val Loss: 21.256404558817547\n",
      "Validation loss did not improve for 50 epochs, stopping training after 610 epochs.\n"
     ]
    },
    {
     "data": {
      "image/png": "[encoded data removed]",
      "text/plain": [
       "<Figure size 640x480 with 1 Axes>"
      ]
     },
     "metadata": {},
     "output_type": "display_data"
    },
    {
     "name": "stdout",
     "output_type": "stream",
     "text": [
      "Surrogate vs Simulator y-space C2ST AUC after iteration 0: 0.55205\n",
      "Surrogate vs Simulator y-space SWD AUC after iteration 0: 0.4592050313949585\n",
      "Epoch x Chunk: 0, Weighted Loss: 6.269183355996869, Entropy loss: 6.269183355996869, Wasser loss: 0.920069694519043\n",
      "Epoch x Chunk: 500, Weighted Loss: -0.3318658371858433, Entropy loss: 1.5601853511215635, Wasser loss: -1.3506627082824707\n",
      "Epoch x Chunk: 1000, Weighted Loss: -0.35852632150891595, Entropy loss: 1.5861359018893006, Wasser loss: -1.4056521654129028\n",
      "Epoch x Chunk: 1500, Weighted Loss: -0.3785411008355912, Entropy loss: 1.586795763472673, Wasser loss: -1.43679940700531\n",
      "Epoch x Chunk: 2000, Weighted Loss: -0.42612522394685737, Entropy loss: 1.5337677049929708, Wasser loss: -1.481452226638794\n",
      "Training loss did not improve. Stopped training after 2158 epochs x chunks.\n",
      "y c2st AUC on simulator: 0.5367\n",
      "y c2st AUC on surrogate: 0.5493\n",
      "Source c2st AUC: 0.76105\n",
      "Ground truth source entropy estimate: 9.165601713214292\n",
      "Estimated source entropy estimate: 9.757507182888846\n",
      "--__----__----__----__----__----__----__----__----__----__--\n"
     ]
    },
    {
     "data": {
      "image/png": "[encoded data removed]",
      "text/plain": [
       "<Figure size 640x480 with 1 Axes>"
      ]
     },
     "metadata": {},
     "output_type": "display_data"
    }
   ],
   "source": [
    "surro_train_domain_distribution = box_domain  # initialization\n",
    "train_losses = []\n",
    "val_losses = []\n",
    "train_source_losses = []\n",
    "\n",
    "iteration = 0\n",
    "# start loop here, don't initialize surrogate again!\n",
    "for _ in range(NUMBER_OF_ITERATIONS):\n",
    "    print(f\"ITERATION: {iteration+1}/{NUMBER_OF_ITERATIONS} training with {BUDGET_PER_ITERATION[_]} samples\")\n",
    "    surro_train_domain = surro_train_domain_distribution.sample(BUDGET_PER_ITERATION[_]).detach()#?\n",
    "    surro_train_push_forward = simulator.sample(surro_train_domain) # real simulator, budget\n",
    "    \n",
    "\n",
    "    train_dataset, val_dataset = create_train_val_dataloaders(\n",
    "        surro_train_push_forward, # observations: x\n",
    "        surro_train_domain,       #   parameters: θ\n",
    "    )\n",
    "\n",
    "    train_loss, val_loss = fit_conditional_normalizing_flow(\n",
    "        network=surrogate,\n",
    "        optimizer=surro_optimizer,\n",
    "        training_dataset=train_dataset,\n",
    "        validation_dataset=val_dataset,\n",
    "        nb_epochs=cfg.surrogate.nb_epochs,#//NUMBER_OF_ITERATIONS, ## shall we cut down on epochs?\n",
    "        early_stopping_patience=cfg.surrogate.early_stopping_patience,\n",
    "        print_every=500,\n",
    "    )\n",
    "\n",
    "    train_losses.extend(train_loss); val_losses.extend(val_loss) # concatenate losses across iterations\n",
    "    \n",
    "    if iteration == NUMBER_OF_ITERATIONS-1:\n",
    "        # only save the final surrogate\n",
    "        torch.save(\n",
    "            surrogate.state_dict(),\n",
    "            os.path.join(\n",
    "                cfg.base.base_path, cfg.base.folder, f\"{cfg.base.tag}_surrogate_{iteration}.pt\"\n",
    "            ),\n",
    "        )\n",
    "    \n",
    "    plt.plot(train_loss, label=f\"train loss (iter {iteration+1}/{NUMBER_OF_ITERATIONS})\")\n",
    "    plt.plot(val_loss, label=f\"validation loss (iter {iteration+1}/{NUMBER_OF_ITERATIONS})\")\n",
    "    plt.legend()\n",
    "    plt.show()\n",
    "    \n",
    "    # evaluate the current surrogate\n",
    "    surrogate.eval()\n",
    "    with torch.no_grad():\n",
    "        # surrogate generated observations from the above 2 sets of 10k thetas\n",
    "        gt_surrogate = surrogate.sample(size=cfg.source.num_obs, context=gt_source)\n",
    "        gt_surrogate_two = surrogate.sample(size=cfg.source.num_eval_obs, context=gt_source_two)\n",
    "    \n",
    "    current_c2st = np.mean(c2st_scores(gt_simulator.cpu(), gt_surrogate.cpu()))\n",
    "    current_swd = sliced_wasserstein_distance(gt_simulator, gt_surrogate,\n",
    "                                              num_projections=4096, device=device\n",
    "                                             ).item()\n",
    "    \n",
    "    print(f\"Surrogate vs Simulator y-space C2ST AUC after iteration {iteration}: {current_c2st}\")\n",
    "    print(f\"Surrogate vs Simulator y-space SWD AUC after iteration {iteration}: {current_swd}\")\n",
    "    \n",
    "    \n",
    "    # now fit a source with this new surrogate\n",
    "    train_source_loss = train_source(\n",
    "        data=gt_simulator, # observations sampled using simulator.sample(context=gt_source)\n",
    "        source_model=source,\n",
    "        simulator=surrogate,  ##### ALWAYS PASSING SURROGATE HERE!!!\n",
    "        optimizer=optimizer,\n",
    "        entro_dist=None,  # default uniform is used\n",
    "        kld_samples=cfg.source.num_kole_samples, # 512\n",
    "        entro_lambda=schedule,\n",
    "        wasser_p=cfg.source.wasserstein_order,   # 2\n",
    "        wasser_np=cfg.source.wasserstein_slices, # 500\n",
    "        use_log_sw=cfg.source.use_log_sw,   # True => log_or_id = torch.log\n",
    "        num_chunks=cfg.source.num_chunks,   # 1\n",
    "        epochs=cfg.source.pretraining_steps # 0\n",
    "        + cfg.source.linear_decay_steps     # 500\n",
    "        + cfg.source.lambda_steps,          # 3000\n",
    "        min_epochs_x_chus=cfg.source.pretraining_steps + cfg.source.linear_decay_steps,\n",
    "        early_stopping_patience=cfg.source.early_stopping_patience, # 500\n",
    "        device=device,\n",
    "        print_every=500,\n",
    "    )\n",
    "    train_source_losses.extend(train_source_loss)\n",
    "    \n",
    "    # Evaluate trained source model\n",
    "    source.eval()\n",
    "    surrogate.eval()\n",
    "    with torch.no_grad():\n",
    "        # sample some θ-s from the estimated source\n",
    "        estimated_source = source.sample(cfg.source.num_eval_obs)\n",
    "        # sample some x-s from those θ-s from the surrogate (pushforward using surrogate)\n",
    "        surro_estimated_pf = surrogate.sample(cfg.source.num_eval_obs, estimated_source)\n",
    "        # sample some x-s from those θ-s from the actual simulator (pushforward using true simulator)\n",
    "        simu_estimated_pf = simulator.sample(estimated_source)\n",
    "    \n",
    "    \n",
    "    # Classifier two sample tests\n",
    "    simu_c2st = np.mean(c2st_scores(simu_estimated_pf.cpu(), gt_simulator_two.cpu()))\n",
    "    print(f\"y c2st AUC on simulator: {simu_c2st}\")\n",
    "    \n",
    "    surro_c2st = np.mean(c2st_scores(surro_estimated_pf.cpu(), gt_surrogate_two.cpu()))\n",
    "    print(f\"y c2st AUC on surrogate: {surro_c2st}\")\n",
    "    \n",
    "    source_c2st = np.mean(\n",
    "        c2st_scores( # 2 `sets` of samples of thetas, from the estimated and the ground truth sources\n",
    "            estimated_source.cpu(),\n",
    "            gt_source_two.cpu(),\n",
    "        )\n",
    "    )\n",
    "    print(f\"Source c2st AUC: {source_c2st}\")\n",
    "\n",
    "    # print(\"Estimate source entropies\")\n",
    "    gt_source_kole = kozachenko_leonenko_estimator(gt_source_two, on_torus=False).item()\n",
    "    estimated_source_kole = kozachenko_leonenko_estimator(\n",
    "        estimated_source, on_torus=False\n",
    "    ).item()\n",
    "    \n",
    "    print(f\"Ground truth source entropy estimate: {gt_source_kole}\")\n",
    "    print(f\"Estimated source entropy estimate: {estimated_source_kole}\")\n",
    "\n",
    "\n",
    "    ## update the source for next iteration of updating the surrogate\n",
    "    iteration += 1\n",
    "    surro_train_domain_distribution = source\n",
    "    print(\"--__--\"*10)\n",
    "\n",
    "plt.plot(train_source_losses, label=f\"source training loss\")\n",
    "plt.legend()\n",
    "plt.show()"
   ]
  },
  {
   "cell_type": "code",
   "execution_count": null,
   "id": "84a099c5-ddc0-4ddb-94f9-218e1637cf6d",
   "metadata": {},
   "outputs": [],
   "source": []
  },
  {
   "cell_type": "code",
   "execution_count": null,
   "id": "44e5f007-ec5c-485c-8355-1d6239c1ae18",
   "metadata": {},
   "outputs": [],
   "source": []
  },
  {
   "cell_type": "code",
   "execution_count": null,
   "id": "fd0c5241-834d-40e8-8cd4-e29c59605fb4",
   "metadata": {},
   "outputs": [],
   "source": []
  },
  {
   "cell_type": "code",
   "execution_count": null,
   "id": "47dd48e0-3159-4381-8e80-3e3fe5dbb5f8",
   "metadata": {},
   "outputs": [],
   "source": []
  },
  {
   "cell_type": "code",
   "execution_count": null,
   "id": "2bfc80f6-f2a6-4496-ab7a-0d3c3e59c224",
   "metadata": {},
   "outputs": [],
   "source": []
  },
  {
   "cell_type": "code",
   "execution_count": null,
   "id": "a797292c-6c27-42f5-ac61-f2868685452d",
   "metadata": {},
   "outputs": [],
   "source": []
  },
  {
   "cell_type": "code",
   "execution_count": null,
   "id": "d5de2443-f1e5-404a-a7b3-c9f4f2375535",
   "metadata": {},
   "outputs": [],
   "source": []
  },
  {
   "cell_type": "code",
   "execution_count": null,
   "id": "c89f4efc-cc21-4453-b0ea-00cdea830a51",
   "metadata": {},
   "outputs": [],
   "source": []
  },
  {
   "cell_type": "code",
   "execution_count": null,
   "id": "8cf0daf0-c017-4b0e-b9a3-b44a5878e592",
   "metadata": {},
   "outputs": [],
   "source": []
  },
  {
   "cell_type": "code",
   "execution_count": null,
   "id": "cffcf6b8-e1f6-4c11-b9b7-9caf221fd818",
   "metadata": {},
   "outputs": [],
   "source": []
  },
  {
   "cell_type": "code",
   "execution_count": null,
   "id": "d646aa0b-ba43-4707-b550-ed234a7f8167",
   "metadata": {},
   "outputs": [],
   "source": []
  },
  {
   "cell_type": "code",
   "execution_count": null,
   "id": "bd1d0426-e53e-44ee-b747-d7a03e65f4bd",
   "metadata": {},
   "outputs": [],
   "source": []
  },
  {
   "cell_type": "markdown",
   "id": "af3db492-6cc9-40b2-95d6-ea5e6bc8fd27",
   "metadata": {},
   "source": [
    "# 12000 one shot"
   ]
  },
  {
   "cell_type": "code",
   "execution_count": 102,
   "id": "6bb5f863-928e-4de7-8ccb-4611a7a774a7",
   "metadata": {},
   "outputs": [
    {
     "name": "stdout",
     "output_type": "stream",
     "text": [
      "ITERATION: 1/1 training with 12000 samples\n",
      "Epoch: 0, Train Loss: 5555.741301687141, Val Loss: 677.6630554199219\n",
      "Epoch: 500, Train Loss: 20.849692344665527, Val Loss: 21.982402038574218\n",
      "Validation loss did not improve for 50 epochs, stopping training after 637 epochs.\n"
     ]
    },
    {
     "data": {
      "image/png": "[encoded data removed]",
      "text/plain": [
       "<Figure size 640x480 with 1 Axes>"
      ]
     },
     "metadata": {},
     "output_type": "display_data"
    },
    {
     "name": "stdout",
     "output_type": "stream",
     "text": [
      "Surrogate vs Simulator y-space C2ST AUC after iteration 0: 0.5708\n",
      "Surrogate vs Simulator y-space SWD AUC after iteration 0: 0.5603686571121216\n",
      "Epoch x Chunk: 0, Weighted Loss: 6.269183355996869, Entropy loss: 6.269183355996869, Wasser loss: 0.89986252784729\n",
      "Epoch x Chunk: 500, Weighted Loss: -0.15309710939650323, Entropy loss: 1.568981389246221, Wasser loss: -1.0803701877593994\n",
      "Epoch x Chunk: 1000, Weighted Loss: -0.2852397236749399, Entropy loss: 1.633627024290889, Wasser loss: -1.3184757232666016\n",
      "Epoch x Chunk: 1500, Weighted Loss: -0.31791622746475967, Entropy loss: 1.6755093760949427, Wasser loss: -1.3912992477416992\n",
      "Training loss did not improve. Stopped training after 1508 epochs x chunks.\n",
      "y c2st AUC on simulator: 0.5447000000000001\n",
      "y c2st AUC on surrogate: 0.5426\n",
      "Source c2st AUC: 0.7617\n",
      "Ground truth source entropy estimate: 9.165601713214292\n",
      "Estimated source entropy estimate: 9.695296140731923\n",
      "--__----__----__----__----__----__----__----__----__----__--\n"
     ]
    },
    {
     "data": {
      "image/png": "[encoded data removed]",
      "text/plain": [
       "<Figure size 640x480 with 1 Axes>"
      ]
     },
     "metadata": {},
     "output_type": "display_data"
    }
   ],
   "source": [
    "surro_train_domain_distribution = box_domain  # initialization\n",
    "train_losses = []\n",
    "val_losses = []\n",
    "train_source_losses = []\n",
    "\n",
    "iteration = 0\n",
    "# start loop here, don't initialize surrogate again!\n",
    "for _ in range(NUMBER_OF_ITERATIONS):\n",
    "    print(f\"ITERATION: {iteration+1}/{NUMBER_OF_ITERATIONS} training with {BUDGET_PER_ITERATION[_]} samples\")\n",
    "    surro_train_domain = surro_train_domain_distribution.sample(BUDGET_PER_ITERATION[_]).detach()#?\n",
    "    surro_train_push_forward = simulator.sample(surro_train_domain) # real simulator, budget\n",
    "    \n",
    "\n",
    "    train_dataset, val_dataset = create_train_val_dataloaders(\n",
    "        surro_train_push_forward, # observations: x\n",
    "        surro_train_domain,       #   parameters: θ\n",
    "    )\n",
    "\n",
    "    train_loss, val_loss = fit_conditional_normalizing_flow(\n",
    "        network=surrogate,\n",
    "        optimizer=surro_optimizer,\n",
    "        training_dataset=train_dataset,\n",
    "        validation_dataset=val_dataset,\n",
    "        nb_epochs=cfg.surrogate.nb_epochs,#//NUMBER_OF_ITERATIONS, ## shall we cut down on epochs?\n",
    "        early_stopping_patience=cfg.surrogate.early_stopping_patience,\n",
    "        print_every=500,\n",
    "    )\n",
    "\n",
    "    train_losses.extend(train_loss); val_losses.extend(val_loss) # concatenate losses across iterations\n",
    "    \n",
    "    if iteration == NUMBER_OF_ITERATIONS-1:\n",
    "        # only save the final surrogate\n",
    "        torch.save(\n",
    "            surrogate.state_dict(),\n",
    "            os.path.join(\n",
    "                cfg.base.base_path, cfg.base.folder, f\"{cfg.base.tag}_surrogate_{iteration}.pt\"\n",
    "            ),\n",
    "        )\n",
    "    \n",
    "    plt.plot(train_loss, label=f\"train loss (iter {iteration+1}/{NUMBER_OF_ITERATIONS})\")\n",
    "    plt.plot(val_loss, label=f\"validation loss (iter {iteration+1}/{NUMBER_OF_ITERATIONS})\")\n",
    "    plt.legend()\n",
    "    plt.show()\n",
    "    \n",
    "    # evaluate the current surrogate\n",
    "    surrogate.eval()\n",
    "    with torch.no_grad():\n",
    "        # surrogate generated observations from the above 2 sets of 10k thetas\n",
    "        gt_surrogate = surrogate.sample(size=cfg.source.num_obs, context=gt_source)\n",
    "        gt_surrogate_two = surrogate.sample(size=cfg.source.num_eval_obs, context=gt_source_two)\n",
    "    \n",
    "    current_c2st = np.mean(c2st_scores(gt_simulator.cpu(), gt_surrogate.cpu()))\n",
    "    current_swd = sliced_wasserstein_distance(gt_simulator, gt_surrogate,\n",
    "                                              num_projections=4096, device=device\n",
    "                                             ).item()\n",
    "    \n",
    "    print(f\"Surrogate vs Simulator y-space C2ST AUC after iteration {iteration}: {current_c2st}\")\n",
    "    print(f\"Surrogate vs Simulator y-space SWD AUC after iteration {iteration}: {current_swd}\")\n",
    "    \n",
    "    \n",
    "    # now fit a source with this new surrogate\n",
    "    train_source_loss = train_source(\n",
    "        data=gt_simulator, # observations sampled using simulator.sample(context=gt_source)\n",
    "        source_model=source,\n",
    "        simulator=surrogate,  ##### ALWAYS PASSING SURROGATE HERE!!!\n",
    "        optimizer=optimizer,\n",
    "        entro_dist=None,  # default uniform is used\n",
    "        kld_samples=cfg.source.num_kole_samples, # 512\n",
    "        entro_lambda=schedule,\n",
    "        wasser_p=cfg.source.wasserstein_order,   # 2\n",
    "        wasser_np=cfg.source.wasserstein_slices, # 500\n",
    "        use_log_sw=cfg.source.use_log_sw,   # True => log_or_id = torch.log\n",
    "        num_chunks=cfg.source.num_chunks,   # 1\n",
    "        epochs=cfg.source.pretraining_steps # 0\n",
    "        + cfg.source.linear_decay_steps     # 500\n",
    "        + cfg.source.lambda_steps,          # 3000\n",
    "        min_epochs_x_chus=cfg.source.pretraining_steps + cfg.source.linear_decay_steps,\n",
    "        early_stopping_patience=cfg.source.early_stopping_patience, # 500\n",
    "        device=device,\n",
    "        print_every=500,\n",
    "    )\n",
    "    train_source_losses.extend(train_source_loss)\n",
    "    \n",
    "    # Evaluate trained source model\n",
    "    source.eval()\n",
    "    surrogate.eval()\n",
    "    with torch.no_grad():\n",
    "        # sample some θ-s from the estimated source\n",
    "        estimated_source = source.sample(cfg.source.num_eval_obs)\n",
    "        # sample some x-s from those θ-s from the surrogate (pushforward using surrogate)\n",
    "        surro_estimated_pf = surrogate.sample(cfg.source.num_eval_obs, estimated_source)\n",
    "        # sample some x-s from those θ-s from the actual simulator (pushforward using true simulator)\n",
    "        simu_estimated_pf = simulator.sample(estimated_source)\n",
    "    \n",
    "    \n",
    "    # Classifier two sample tests\n",
    "    simu_c2st = np.mean(c2st_scores(simu_estimated_pf.cpu(), gt_simulator_two.cpu()))\n",
    "    print(f\"y c2st AUC on simulator: {simu_c2st}\")\n",
    "    \n",
    "    surro_c2st = np.mean(c2st_scores(surro_estimated_pf.cpu(), gt_surrogate_two.cpu()))\n",
    "    print(f\"y c2st AUC on surrogate: {surro_c2st}\")\n",
    "    \n",
    "    source_c2st = np.mean(\n",
    "        c2st_scores( # 2 `sets` of samples of thetas, from the estimated and the ground truth sources\n",
    "            estimated_source.cpu(),\n",
    "            gt_source_two.cpu(),\n",
    "        )\n",
    "    )\n",
    "    print(f\"Source c2st AUC: {source_c2st}\")\n",
    "\n",
    "    # print(\"Estimate source entropies\")\n",
    "    gt_source_kole = kozachenko_leonenko_estimator(gt_source_two, on_torus=False).item()\n",
    "    estimated_source_kole = kozachenko_leonenko_estimator(\n",
    "        estimated_source, on_torus=False\n",
    "    ).item()\n",
    "    \n",
    "    print(f\"Ground truth source entropy estimate: {gt_source_kole}\")\n",
    "    print(f\"Estimated source entropy estimate: {estimated_source_kole}\")\n",
    "\n",
    "\n",
    "    ## update the source for next iteration of updating the surrogate\n",
    "    iteration += 1\n",
    "    surro_train_domain_distribution = source\n",
    "    print(\"--__--\"*10)\n",
    "\n",
    "plt.plot(train_source_losses, label=f\"source training loss\")\n",
    "plt.legend()\n",
    "plt.show()"
   ]
  },
  {
   "cell_type": "code",
   "execution_count": null,
   "id": "afc8f236-8fc2-415f-b4c5-cb923c6036b3",
   "metadata": {},
   "outputs": [],
   "source": []
  },
  {
   "cell_type": "code",
   "execution_count": null,
   "id": "68f00fd8-9250-4904-aea9-312e16f0aa53",
   "metadata": {},
   "outputs": [],
   "source": []
  },
  {
   "cell_type": "code",
   "execution_count": null,
   "id": "10ce1796-8a4f-4783-9acb-3f59b55a4787",
   "metadata": {},
   "outputs": [],
   "source": []
  },
  {
   "cell_type": "code",
   "execution_count": null,
   "id": "239c67b7-1e83-4fcd-8895-1a6645b80b94",
   "metadata": {},
   "outputs": [],
   "source": []
  },
  {
   "cell_type": "code",
   "execution_count": null,
   "id": "84353dcf-b7ff-4791-974c-6b893926e529",
   "metadata": {},
   "outputs": [],
   "source": []
  },
  {
   "cell_type": "code",
   "execution_count": null,
   "id": "3d25dcd3-06de-4124-a0e9-eb21c6495245",
   "metadata": {},
   "outputs": [],
   "source": []
  },
  {
   "cell_type": "code",
   "execution_count": null,
   "id": "77aaf55f-cd14-4f87-8743-c8d1f23c41cb",
   "metadata": {},
   "outputs": [],
   "source": []
  },
  {
   "cell_type": "code",
   "execution_count": null,
   "id": "e1679ccb-afdb-4622-89dc-6e77a7aa4681",
   "metadata": {},
   "outputs": [],
   "source": []
  },
  {
   "cell_type": "code",
   "execution_count": null,
   "id": "c45d0c02-e1f4-41d1-b78d-6dc67c063e4d",
   "metadata": {},
   "outputs": [],
   "source": []
  },
  {
   "cell_type": "code",
   "execution_count": null,
   "id": "84ce4e89-8df2-43b9-9ac5-e2e47bcc65d1",
   "metadata": {},
   "outputs": [],
   "source": []
  },
  {
   "cell_type": "markdown",
   "id": "402ea8fa-62c1-4512-8d90-40685542664a",
   "metadata": {},
   "source": [
    "# 9000 one shot"
   ]
  },
  {
   "cell_type": "code",
   "execution_count": 84,
   "id": "965485fd-93ba-43c1-aaba-dc5efd62416a",
   "metadata": {},
   "outputs": [
    {
     "name": "stdout",
     "output_type": "stream",
     "text": [
      "ITERATION: 1/1 training with 9000 samples\n",
      "Epoch: 0, Train Loss: 20326.571419551456, Val Loss: 1010.1227645874023\n",
      "Epoch: 500, Train Loss: 23.424460707039668, Val Loss: 23.479442834854126\n",
      "Validation loss did not improve for 50 epochs, stopping training after 575 epochs.\n"
     ]
    },
    {
     "data": {
      "image/png": "[encoded data removed]",
      "text/plain": [
       "<Figure size 640x480 with 1 Axes>"
      ]
     },
     "metadata": {},
     "output_type": "display_data"
    },
    {
     "name": "stdout",
     "output_type": "stream",
     "text": [
      "Surrogate vs Simulator y-space C2ST AUC after iteration 0: 0.64295\n",
      "Surrogate vs Simulator y-space SWD AUC after iteration 0: 0.525463342666626\n",
      "Epoch x Chunk: 0, Weighted Loss: 6.269183355996869, Entropy loss: 6.269183355996869, Wasser loss: 0.899308979511261\n",
      "Epoch x Chunk: 500, Weighted Loss: -0.03417666423098792, Entropy loss: 1.402789841773889, Wasser loss: -0.8079278469085693\n",
      "Epoch x Chunk: 1000, Weighted Loss: -0.15522039398648513, Entropy loss: 1.4420625255260964, Wasser loss: -1.0152958631515503\n",
      "Epoch x Chunk: 1500, Weighted Loss: -0.14372145575692707, Entropy loss: 1.464497743228736, Wasser loss: -1.0096856355667114\n",
      "Training loss did not improve. Stopped training after 1508 epochs x chunks.\n",
      "y c2st AUC on simulator: 0.54435\n",
      "y c2st AUC on surrogate: 0.5471999999999999\n",
      "Source c2st AUC: 0.7614\n",
      "Ground truth source entropy estimate: 9.165601713214292\n",
      "Estimated source entropy estimate: 9.702668620135722\n",
      "--__----__----__----__----__----__----__----__----__----__--\n"
     ]
    }
   ],
   "source": [
    "surro_train_domain_distribution = box_domain  # initialization\n",
    "train_losses = []\n",
    "val_losses = []\n",
    "train_source_losses = []\n",
    "\n",
    "iteration = 0\n",
    "# start loop here, don't initialize surrogate again!\n",
    "for _ in range(NUMBER_OF_ITERATIONS):\n",
    "    print(f\"ITERATION: {iteration+1}/{NUMBER_OF_ITERATIONS} training with {BUDGET_PER_ITERATION[_]} samples\")\n",
    "    surro_train_domain = surro_train_domain_distribution.sample(BUDGET_PER_ITERATION[_]).detach()#?\n",
    "    surro_train_push_forward = simulator.sample(surro_train_domain) # real simulator, budget\n",
    "    \n",
    "\n",
    "    train_dataset, val_dataset = create_train_val_dataloaders(\n",
    "        surro_train_push_forward, # observations: x\n",
    "        surro_train_domain,       #   parameters: θ\n",
    "    )\n",
    "\n",
    "    train_loss, val_loss = fit_conditional_normalizing_flow(\n",
    "        network=surrogate,\n",
    "        optimizer=surro_optimizer,\n",
    "        training_dataset=train_dataset,\n",
    "        validation_dataset=val_dataset,\n",
    "        nb_epochs=cfg.surrogate.nb_epochs,#//NUMBER_OF_ITERATIONS, ## shall we cut down on epochs?\n",
    "        early_stopping_patience=cfg.surrogate.early_stopping_patience,\n",
    "        print_every=500,\n",
    "    )\n",
    "\n",
    "    train_losses.extend(train_loss); val_losses.extend(val_loss) # concatenate losses across iterations\n",
    "    \n",
    "    if iteration == NUMBER_OF_ITERATIONS-1:\n",
    "        # only save the final surrogate\n",
    "        torch.save(\n",
    "            surrogate.state_dict(),\n",
    "            os.path.join(\n",
    "                cfg.base.base_path, cfg.base.folder, f\"{cfg.base.tag}_surrogate_{iteration}.pt\"\n",
    "            ),\n",
    "        )\n",
    "    \n",
    "    plt.plot(train_loss, label=f\"train loss (iter {iteration+1}/{NUMBER_OF_ITERATIONS})\")\n",
    "    plt.plot(val_loss, label=f\"validation loss (iter {iteration+1}/{NUMBER_OF_ITERATIONS})\")\n",
    "    plt.legend()\n",
    "    plt.show()\n",
    "    \n",
    "    # evaluate the current surrogate\n",
    "    surrogate.eval()\n",
    "    with torch.no_grad():\n",
    "        # surrogate generated observations from the above 2 sets of 10k thetas\n",
    "        gt_surrogate = surrogate.sample(size=cfg.source.num_obs, context=gt_source)\n",
    "        gt_surrogate_two = surrogate.sample(size=cfg.source.num_eval_obs, context=gt_source_two)\n",
    "    \n",
    "    current_c2st = np.mean(c2st_scores(gt_simulator.cpu(), gt_surrogate.cpu()))\n",
    "    current_swd = sliced_wasserstein_distance(gt_simulator, gt_surrogate,\n",
    "                                              num_projections=4096, device=device\n",
    "                                             ).item()\n",
    "    \n",
    "    print(f\"Surrogate vs Simulator y-space C2ST AUC after iteration {iteration}: {current_c2st}\")\n",
    "    print(f\"Surrogate vs Simulator y-space SWD AUC after iteration {iteration}: {current_swd}\")\n",
    "    \n",
    "    \n",
    "    # now fit a source with this new surrogate\n",
    "    train_source_loss = train_source(\n",
    "        data=gt_simulator, # observations sampled using simulator.sample(context=gt_source)\n",
    "        source_model=source,\n",
    "        simulator=surrogate,  ##### ALWAYS PASSING SURROGATE HERE!!!\n",
    "        optimizer=optimizer,\n",
    "        entro_dist=None,  # default uniform is used\n",
    "        kld_samples=cfg.source.num_kole_samples, # 512\n",
    "        entro_lambda=schedule,\n",
    "        wasser_p=cfg.source.wasserstein_order,   # 2\n",
    "        wasser_np=cfg.source.wasserstein_slices, # 500\n",
    "        use_log_sw=cfg.source.use_log_sw,   # True => log_or_id = torch.log\n",
    "        num_chunks=cfg.source.num_chunks,   # 1\n",
    "        epochs=cfg.source.pretraining_steps # 0\n",
    "        + cfg.source.linear_decay_steps     # 500\n",
    "        + cfg.source.lambda_steps,          # 3000\n",
    "        min_epochs_x_chus=cfg.source.pretraining_steps + cfg.source.linear_decay_steps,\n",
    "        early_stopping_patience=cfg.source.early_stopping_patience, # 500\n",
    "        device=device,\n",
    "        print_every=500,\n",
    "    )\n",
    "    train_source_losses.extend(train_source_loss)\n",
    "    \n",
    "    # Evaluate trained source model\n",
    "    source.eval()\n",
    "    surrogate.eval()\n",
    "    with torch.no_grad():\n",
    "        # sample some θ-s from the estimated source\n",
    "        estimated_source = source.sample(cfg.source.num_eval_obs)\n",
    "        # sample some x-s from those θ-s from the surrogate (pushforward using surrogate)\n",
    "        surro_estimated_pf = surrogate.sample(cfg.source.num_eval_obs, estimated_source)\n",
    "        # sample some x-s from those θ-s from the actual simulator (pushforward using true simulator)\n",
    "        simu_estimated_pf = simulator.sample(estimated_source)\n",
    "    \n",
    "    \n",
    "    # Classifier two sample tests\n",
    "    simu_c2st = np.mean(c2st_scores(simu_estimated_pf.cpu(), gt_simulator_two.cpu()))\n",
    "    print(f\"y c2st AUC on simulator: {simu_c2st}\")\n",
    "    \n",
    "    surro_c2st = np.mean(c2st_scores(surro_estimated_pf.cpu(), gt_surrogate_two.cpu()))\n",
    "    print(f\"y c2st AUC on surrogate: {surro_c2st}\")\n",
    "    \n",
    "    source_c2st = np.mean(\n",
    "        c2st_scores( # 2 `sets` of samples of thetas, from the estimated and the ground truth sources\n",
    "            estimated_source.cpu(),\n",
    "            gt_source_two.cpu(),\n",
    "        )\n",
    "    )\n",
    "    print(f\"Source c2st AUC: {source_c2st}\")\n",
    "\n",
    "    # print(\"Estimate source entropies\")\n",
    "    gt_source_kole = kozachenko_leonenko_estimator(gt_source_two, on_torus=False).item()\n",
    "    estimated_source_kole = kozachenko_leonenko_estimator(\n",
    "        estimated_source, on_torus=False\n",
    "    ).item()\n",
    "    \n",
    "    print(f\"Ground truth source entropy estimate: {gt_source_kole}\")\n",
    "    print(f\"Estimated source entropy estimate: {estimated_source_kole}\")\n",
    "\n",
    "\n",
    "    ## update the source for next iteration of updating the surrogate\n",
    "    iteration += 1\n",
    "    surro_train_domain_distribution = source\n",
    "    print(\"--__--\"*10)"
   ]
  },
  {
   "cell_type": "code",
   "execution_count": 101,
   "id": "a17c8dfc-5381-46be-a752-acb9c51461b7",
   "metadata": {},
   "outputs": [
    {
     "data": {
      "image/png": "[encoded data removed]",
      "text/plain": [
       "<Figure size 640x480 with 1 Axes>"
      ]
     },
     "metadata": {},
     "output_type": "display_data"
    }
   ],
   "source": [
    "plt.plot(train_source_losses, label=f\"source training loss\")\n",
    "plt.legend()\n",
    "plt.show()"
   ]
  },
  {
   "cell_type": "code",
   "execution_count": null,
   "id": "9336e5e5-2734-4469-9d3d-0bd636294d40",
   "metadata": {},
   "outputs": [],
   "source": []
  },
  {
   "cell_type": "code",
   "execution_count": null,
   "id": "e516d3cd-2466-42d6-b48a-60f11d990e8c",
   "metadata": {},
   "outputs": [],
   "source": []
  },
  {
   "cell_type": "code",
   "execution_count": null,
   "id": "b7a617bf-acfd-4416-9b56-7ef9af692631",
   "metadata": {},
   "outputs": [],
   "source": []
  },
  {
   "cell_type": "code",
   "execution_count": null,
   "id": "eef0d90c-355e-4209-b3b6-e3da24639751",
   "metadata": {},
   "outputs": [],
   "source": []
  },
  {
   "cell_type": "code",
   "execution_count": null,
   "id": "be2f2a19-f2a5-4c82-9c80-bba778efa2de",
   "metadata": {},
   "outputs": [],
   "source": []
  },
  {
   "cell_type": "code",
   "execution_count": null,
   "id": "8089fa07-b4e6-4158-a9ef-eab68d52d45b",
   "metadata": {},
   "outputs": [],
   "source": []
  },
  {
   "cell_type": "code",
   "execution_count": null,
   "id": "f7eaf846-c8e3-4ba3-9731-9909998a2d96",
   "metadata": {},
   "outputs": [],
   "source": []
  },
  {
   "cell_type": "code",
   "execution_count": null,
   "id": "adaa4cb3-e9fd-4f2b-9276-ac91284208b8",
   "metadata": {},
   "outputs": [],
   "source": []
  },
  {
   "cell_type": "code",
   "execution_count": null,
   "id": "84d2b7fe-9209-45b8-9bb3-be2e9d918aa4",
   "metadata": {},
   "outputs": [],
   "source": []
  },
  {
   "cell_type": "code",
   "execution_count": null,
   "id": "3dfb054a-f839-4738-a567-1fc0d19bc99d",
   "metadata": {},
   "outputs": [],
   "source": []
  },
  {
   "cell_type": "code",
   "execution_count": null,
   "id": "06deb278-3945-4977-9801-6ed866a9f5af",
   "metadata": {},
   "outputs": [],
   "source": []
  },
  {
   "cell_type": "code",
   "execution_count": null,
   "id": "268af982-a920-431b-85e3-9e6a92955410",
   "metadata": {},
   "outputs": [],
   "source": []
  },
  {
   "cell_type": "code",
   "execution_count": null,
   "id": "ea2b75d2-fcc0-41ed-9a9d-f8d615361cd5",
   "metadata": {},
   "outputs": [],
   "source": []
  },
  {
   "cell_type": "code",
   "execution_count": null,
   "id": "7a84d402-8867-4bcd-82c9-8cddd5b707a9",
   "metadata": {},
   "outputs": [],
   "source": []
  },
  {
   "cell_type": "code",
   "execution_count": null,
   "id": "527b3830-3e6a-49b9-8d33-5e23a2481204",
   "metadata": {},
   "outputs": [],
   "source": []
  },
  {
   "cell_type": "code",
   "execution_count": null,
   "id": "6b72b31e-713e-4ae3-a863-f04df97e5787",
   "metadata": {},
   "outputs": [],
   "source": []
  },
  {
   "cell_type": "code",
   "execution_count": null,
   "id": "a65a4508-c43c-46c8-9d1e-e441373e6304",
   "metadata": {},
   "outputs": [],
   "source": []
  },
  {
   "cell_type": "markdown",
   "id": "f3591256-6ee1-4f9c-b7c0-28bcded82ae3",
   "metadata": {},
   "source": [
    "# 6000 one shot"
   ]
  },
  {
   "cell_type": "code",
   "execution_count": 64,
   "id": "c99c59b6-bba2-4dc5-918a-437333424f1a",
   "metadata": {},
   "outputs": [
    {
     "name": "stdout",
     "output_type": "stream",
     "text": [
      "ITERATION: 1/1 training with 6000 samples\n",
      "Epoch: 0, Train Loss: 18259.064755088406, Val Loss: 1295.4876220703125\n",
      "Epoch: 500, Train Loss: 26.80910953722502, Val Loss: 27.38017463684082\n",
      "Validation loss did not improve for 50 epochs, stopping training after 943 epochs.\n"
     ]
    },
    {
     "data": {
      "image/png": "[encoded data removed]",
      "text/plain": [
       "<Figure size 640x480 with 1 Axes>"
      ]
     },
     "metadata": {},
     "output_type": "display_data"
    },
    {
     "name": "stdout",
     "output_type": "stream",
     "text": [
      "Surrogate vs Simulator y-space C2ST AUC after iteration 0: 0.6182500000000001\n",
      "Surrogate vs Simulator y-space SWD AUC after iteration 0: 0.4226246178150177\n",
      "Epoch x Chunk: 0, Weighted Loss: 6.269183355996869, Entropy loss: 6.269183355996869, Wasser loss: 0.9501497745513916\n",
      "Epoch x Chunk: 500, Weighted Loss: -0.13467849543194876, Entropy loss: 1.4950336628448193, Wasser loss: -1.0122158527374268\n",
      "Epoch x Chunk: 1000, Weighted Loss: -0.28752169668804173, Entropy loss: 1.4901419263213755, Wasser loss: -1.244725227355957\n",
      "Epoch x Chunk: 1500, Weighted Loss: -0.21691969982372294, Entropy loss: 1.5242277713886354, Wasser loss: -1.1544606685638428\n",
      "Training loss did not improve. Stopped training after 1699 epochs x chunks.\n",
      "y c2st AUC on simulator: 0.5504\n",
      "y c2st AUC on surrogate: 0.5489\n",
      "Source c2st AUC: 0.76875\n",
      "Ground truth source entropy estimate: 9.165601713214292\n",
      "Estimated source entropy estimate: 9.713248609480807\n",
      "--__----__----__----__----__----__----__----__----__----__--\n"
     ]
    }
   ],
   "source": [
    "surro_train_domain_distribution = box_domain  # initialization\n",
    "train_losses = []\n",
    "val_losses = []\n",
    "train_source_losses = []\n",
    "\n",
    "iteration = 0\n",
    "# start loop here, don't initialize surrogate again!\n",
    "for _ in range(NUMBER_OF_ITERATIONS):\n",
    "    print(f\"ITERATION: {iteration+1}/{NUMBER_OF_ITERATIONS} training with {BUDGET_PER_ITERATION[_]} samples\")\n",
    "    surro_train_domain = surro_train_domain_distribution.sample(BUDGET_PER_ITERATION[_]).detach()#?\n",
    "    surro_train_push_forward = simulator.sample(surro_train_domain) # real simulator, budget\n",
    "    \n",
    "\n",
    "    train_dataset, val_dataset = create_train_val_dataloaders(\n",
    "        surro_train_push_forward, # observations: x\n",
    "        surro_train_domain,       #   parameters: θ\n",
    "    )\n",
    "\n",
    "    train_loss, val_loss = fit_conditional_normalizing_flow(\n",
    "        network=surrogate,\n",
    "        optimizer=surro_optimizer,\n",
    "        training_dataset=train_dataset,\n",
    "        validation_dataset=val_dataset,\n",
    "        nb_epochs=cfg.surrogate.nb_epochs,#//NUMBER_OF_ITERATIONS, ## shall we cut down on epochs?\n",
    "        early_stopping_patience=cfg.surrogate.early_stopping_patience,\n",
    "        print_every=500,\n",
    "    )\n",
    "\n",
    "    train_losses.extend(train_loss); val_losses.extend(val_loss) # concatenate losses across iterations\n",
    "    \n",
    "    if iteration == NUMBER_OF_ITERATIONS-1:\n",
    "        # only save the final surrogate\n",
    "        torch.save(\n",
    "            surrogate.state_dict(),\n",
    "            os.path.join(\n",
    "                cfg.base.base_path, cfg.base.folder, f\"{cfg.base.tag}_surrogate_{iteration}.pt\"\n",
    "            ),\n",
    "        )\n",
    "    \n",
    "    plt.plot(train_loss, label=f\"train loss (iter {iteration+1}/{NUMBER_OF_ITERATIONS})\")\n",
    "    plt.plot(val_loss, label=f\"validation loss (iter {iteration+1}/{NUMBER_OF_ITERATIONS})\")\n",
    "    plt.legend()\n",
    "    plt.show()\n",
    "    \n",
    "    # evaluate the current surrogate\n",
    "    surrogate.eval()\n",
    "    with torch.no_grad():\n",
    "        # surrogate generated observations from the above 2 sets of 10k thetas\n",
    "        gt_surrogate = surrogate.sample(size=cfg.source.num_obs, context=gt_source)\n",
    "        gt_surrogate_two = surrogate.sample(size=cfg.source.num_eval_obs, context=gt_source_two)\n",
    "    \n",
    "    current_c2st = np.mean(c2st_scores(gt_simulator.cpu(), gt_surrogate.cpu()))\n",
    "    current_swd = sliced_wasserstein_distance(gt_simulator, gt_surrogate,\n",
    "                                              num_projections=4096, device=device\n",
    "                                             ).item()\n",
    "    \n",
    "    print(f\"Surrogate vs Simulator y-space C2ST AUC after iteration {iteration}: {current_c2st}\")\n",
    "    print(f\"Surrogate vs Simulator y-space SWD AUC after iteration {iteration}: {current_swd}\")\n",
    "    \n",
    "    \n",
    "    # now fit a source with this new surrogate\n",
    "    train_source_loss = train_source(\n",
    "        data=gt_simulator, # observations sampled using simulator.sample(context=gt_source)\n",
    "        source_model=source,\n",
    "        simulator=surrogate,  ##### ALWAYS PASSING SURROGATE HERE!!!\n",
    "        optimizer=optimizer,\n",
    "        entro_dist=None,  # default uniform is used\n",
    "        kld_samples=cfg.source.num_kole_samples, # 512\n",
    "        entro_lambda=schedule,\n",
    "        wasser_p=cfg.source.wasserstein_order,   # 2\n",
    "        wasser_np=cfg.source.wasserstein_slices, # 500\n",
    "        use_log_sw=cfg.source.use_log_sw,   # True => log_or_id = torch.log\n",
    "        num_chunks=cfg.source.num_chunks,   # 1\n",
    "        epochs=cfg.source.pretraining_steps # 0\n",
    "        + cfg.source.linear_decay_steps     # 500\n",
    "        + cfg.source.lambda_steps,          # 3000\n",
    "        min_epochs_x_chus=cfg.source.pretraining_steps + cfg.source.linear_decay_steps,\n",
    "        early_stopping_patience=cfg.source.early_stopping_patience, # 500\n",
    "        device=device,\n",
    "        print_every=500,\n",
    "    )\n",
    "    train_source_losses.extend(train_source_loss)\n",
    "    \n",
    "    # Evaluate trained source model\n",
    "    source.eval()\n",
    "    surrogate.eval()\n",
    "    with torch.no_grad():\n",
    "        # sample some θ-s from the estimated source\n",
    "        estimated_source = source.sample(cfg.source.num_eval_obs)\n",
    "        # sample some x-s from those θ-s from the surrogate (pushforward using surrogate)\n",
    "        surro_estimated_pf = surrogate.sample(cfg.source.num_eval_obs, estimated_source)\n",
    "        # sample some x-s from those θ-s from the actual simulator (pushforward using true simulator)\n",
    "        simu_estimated_pf = simulator.sample(estimated_source)\n",
    "    \n",
    "    \n",
    "    # Classifier two sample tests\n",
    "    simu_c2st = np.mean(c2st_scores(simu_estimated_pf.cpu(), gt_simulator_two.cpu()))\n",
    "    print(f\"y c2st AUC on simulator: {simu_c2st}\")\n",
    "    \n",
    "    surro_c2st = np.mean(c2st_scores(surro_estimated_pf.cpu(), gt_surrogate_two.cpu()))\n",
    "    print(f\"y c2st AUC on surrogate: {surro_c2st}\")\n",
    "    \n",
    "    source_c2st = np.mean(\n",
    "        c2st_scores( # 2 `sets` of samples of thetas, from the estimated and the ground truth sources\n",
    "            estimated_source.cpu(),\n",
    "            gt_source_two.cpu(),\n",
    "        )\n",
    "    )\n",
    "    print(f\"Source c2st AUC: {source_c2st}\")\n",
    "\n",
    "    # print(\"Estimate source entropies\")\n",
    "    gt_source_kole = kozachenko_leonenko_estimator(gt_source_two, on_torus=False).item()\n",
    "    estimated_source_kole = kozachenko_leonenko_estimator(\n",
    "        estimated_source, on_torus=False\n",
    "    ).item()\n",
    "    \n",
    "    print(f\"Ground truth source entropy estimate: {gt_source_kole}\")\n",
    "    print(f\"Estimated source entropy estimate: {estimated_source_kole}\")\n",
    "\n",
    "\n",
    "    ## update the source for next iteration of updating the surrogate\n",
    "    iteration += 1\n",
    "    surro_train_domain_distribution = source\n",
    "    print(\"--__--\"*10)"
   ]
  },
  {
   "cell_type": "code",
   "execution_count": 67,
   "id": "e715e373-690c-4481-abf4-d9cb6e8753ff",
   "metadata": {},
   "outputs": [
    {
     "data": {
      "image/png": "[encoded data removed]",
      "text/plain": [
       "<Figure size 640x480 with 1 Axes>"
      ]
     },
     "metadata": {},
     "output_type": "display_data"
    }
   ],
   "source": [
    "start_idx=200\n",
    "plt.plot(train_losses[start_idx:], label=f\"train loss\")\n",
    "plt.plot(val_losses[start_idx:], label=f\"validation loss\")\n",
    "plt.legend()\n",
    "plt.show()"
   ]
  },
  {
   "cell_type": "code",
   "execution_count": 65,
   "id": "b3131d17-ddef-4c8f-ad37-db2347e22b0c",
   "metadata": {},
   "outputs": [
    {
     "data": {
      "image/png": "[encoded data removed]",
      "text/plain": [
       "<Figure size 640x480 with 1 Axes>"
      ]
     },
     "metadata": {},
     "output_type": "display_data"
    }
   ],
   "source": [
    "plt.plot(train_source_losses, label=f\"source training loss\")\n",
    "plt.legend()\n",
    "plt.show()"
   ]
  },
  {
   "cell_type": "code",
   "execution_count": null,
   "id": "ce466659-4bae-430b-95a5-8602a37deb4d",
   "metadata": {},
   "outputs": [],
   "source": []
  },
  {
   "cell_type": "code",
   "execution_count": null,
   "id": "975bfbe6-5467-447f-965d-f533ba0b2747",
   "metadata": {},
   "outputs": [],
   "source": []
  },
  {
   "cell_type": "code",
   "execution_count": null,
   "id": "3d2e2a3e-3b2d-4762-bbc1-a5b1ed116026",
   "metadata": {},
   "outputs": [],
   "source": []
  },
  {
   "cell_type": "code",
   "execution_count": null,
   "id": "23a9c106-ad20-4f9f-8ffb-357176ee7391",
   "metadata": {},
   "outputs": [],
   "source": []
  },
  {
   "cell_type": "code",
   "execution_count": null,
   "id": "79269f4c-ff6b-429c-a2b9-d8cc9385de45",
   "metadata": {},
   "outputs": [],
   "source": []
  },
  {
   "cell_type": "code",
   "execution_count": null,
   "id": "a58fd57d-24a8-4fcb-9d76-ff953ac7a9dd",
   "metadata": {},
   "outputs": [],
   "source": []
  },
  {
   "cell_type": "code",
   "execution_count": null,
   "id": "fb2624fd-aa89-4420-8c09-2070b7f975fc",
   "metadata": {},
   "outputs": [],
   "source": []
  },
  {
   "cell_type": "code",
   "execution_count": null,
   "id": "8ce6eb41-bf8b-423f-9313-63584c5fd14a",
   "metadata": {},
   "outputs": [],
   "source": []
  },
  {
   "cell_type": "code",
   "execution_count": null,
   "id": "5a28d2b4-1a2f-4682-8a66-05ac73e0e23b",
   "metadata": {},
   "outputs": [],
   "source": []
  },
  {
   "cell_type": "code",
   "execution_count": null,
   "id": "af57ac60-1add-4ce6-b235-8f6fd65c3815",
   "metadata": {},
   "outputs": [],
   "source": []
  },
  {
   "cell_type": "markdown",
   "id": "e6238305-1d77-4e03-9020-62eafe8d1808",
   "metadata": {},
   "source": [
    "## 5000 one shot"
   ]
  },
  {
   "cell_type": "code",
   "execution_count": 42,
   "id": "edb6796d-a344-4eb7-b7b8-e5d818787147",
   "metadata": {},
   "outputs": [
    {
     "name": "stdout",
     "output_type": "stream",
     "text": [
      "ITERATION: 1/1 training with 5000 samples\n",
      "Epoch: 0, Train Loss: 13544.552551269531, Val Loss: 2428.758056640625\n",
      "Epoch: 500, Train Loss: 27.390628695487976, Val Loss: 28.029046058654785\n"
     ]
    },
    {
     "data": {
      "image/png": "[encoded data removed]",
      "text/plain": [
       "<Figure size 640x480 with 1 Axes>"
      ]
     },
     "metadata": {},
     "output_type": "display_data"
    },
    {
     "name": "stdout",
     "output_type": "stream",
     "text": [
      "Surrogate vs Simulator y-space C2ST AUC after iteration 0: 0.63285\n",
      "Surrogate vs Simulator y-space SWD AUC after iteration 0: 0.4107383191585541\n",
      "Epoch x Chunk: 0, Weighted Loss: 6.269183355996869, Entropy loss: 6.269183355996869, Wasser loss: 0.9163742661476135\n",
      "Epoch x Chunk: 500, Weighted Loss: -0.12548094763585615, Entropy loss: 1.5010048981613844, Wasser loss: -1.0012810230255127\n",
      "Epoch x Chunk: 1000, Weighted Loss: -0.20696091192290433, Entropy loss: 1.589644506331326, Wasser loss: -1.1743638515472412\n",
      "Epoch x Chunk: 1500, Weighted Loss: -0.20336010969217466, Entropy loss: 1.5231172810660807, Wasser loss: -1.1330018043518066\n",
      "Epoch x Chunk: 2000, Weighted Loss: -0.24021012302638123, Entropy loss: 1.5680725297599318, Wasser loss: -1.2139008045196533\n",
      "Epoch x Chunk: 2500, Weighted Loss: -0.230861725064619, Entropy loss: 1.5619646019007023, Wasser loss: -1.1962298154830933\n",
      "Training loss did not improve. Stopped training after 2868 epochs x chunks.\n",
      "y c2st AUC on simulator: 0.5447\n",
      "y c2st AUC on surrogate: 0.5394\n",
      "Source c2st AUC: 0.7564\n",
      "Ground truth source entropy estimate: 9.165601713214292\n",
      "Estimated source entropy estimate: 9.639331053486217\n",
      "--__----__----__----__----__----__----__----__----__----__--\n"
     ]
    }
   ],
   "source": [
    "surro_train_domain_distribution = box_domain  # initialization\n",
    "train_losses = []\n",
    "val_losses = []\n",
    "train_source_losses = []\n",
    "\n",
    "iteration = 0\n",
    "# start loop here, don't initialize surrogate again!\n",
    "for _ in range(NUMBER_OF_ITERATIONS):\n",
    "    print(f\"ITERATION: {iteration+1}/{NUMBER_OF_ITERATIONS} training with {BUDGET_PER_ITERATION[_]} samples\")\n",
    "    surro_train_domain = surro_train_domain_distribution.sample(BUDGET_PER_ITERATION[_]).detach()#?\n",
    "    surro_train_push_forward = simulator.sample(surro_train_domain) # real simulator, budget\n",
    "    \n",
    "\n",
    "    train_dataset, val_dataset = create_train_val_dataloaders(\n",
    "        surro_train_push_forward, # observations: x\n",
    "        surro_train_domain,       #   parameters: θ\n",
    "    )\n",
    "\n",
    "    train_loss, val_loss = fit_conditional_normalizing_flow(\n",
    "        network=surrogate,\n",
    "        optimizer=surro_optimizer,\n",
    "        training_dataset=train_dataset,\n",
    "        validation_dataset=val_dataset,\n",
    "        nb_epochs=cfg.surrogate.nb_epochs,#//NUMBER_OF_ITERATIONS, ## shall we cut down on epochs?\n",
    "        early_stopping_patience=cfg.surrogate.early_stopping_patience,\n",
    "        print_every=500,\n",
    "    )\n",
    "\n",
    "    train_losses.extend(train_loss); val_losses.extend(val_loss) # concatenate losses across iterations\n",
    "    \n",
    "    if iteration == NUMBER_OF_ITERATIONS-1:\n",
    "        # only save the final surrogate\n",
    "        torch.save(\n",
    "            surrogate.state_dict(),\n",
    "            os.path.join(\n",
    "                cfg.base.base_path, cfg.base.folder, f\"{cfg.base.tag}_surrogate_{iteration}.pt\"\n",
    "            ),\n",
    "        )\n",
    "    \n",
    "    plt.plot(train_loss, label=f\"train loss (iter {iteration+1}/{NUMBER_OF_ITERATIONS})\")\n",
    "    plt.plot(val_loss, label=f\"validation loss (iter {iteration+1}/{NUMBER_OF_ITERATIONS})\")\n",
    "    plt.legend()\n",
    "    plt.show()\n",
    "    \n",
    "    # evaluate the current surrogate\n",
    "    surrogate.eval()\n",
    "    with torch.no_grad():\n",
    "        # surrogate generated observations from the above 2 sets of 10k thetas\n",
    "        gt_surrogate = surrogate.sample(size=cfg.source.num_obs, context=gt_source)\n",
    "        gt_surrogate_two = surrogate.sample(size=cfg.source.num_eval_obs, context=gt_source_two)\n",
    "    \n",
    "    current_c2st = np.mean(c2st_scores(gt_simulator.cpu(), gt_surrogate.cpu()))\n",
    "    current_swd = sliced_wasserstein_distance(gt_simulator, gt_surrogate,\n",
    "                                              num_projections=4096, device=device\n",
    "                                             ).item()\n",
    "    \n",
    "    print(f\"Surrogate vs Simulator y-space C2ST AUC after iteration {iteration}: {current_c2st}\")\n",
    "    print(f\"Surrogate vs Simulator y-space SWD AUC after iteration {iteration}: {current_swd}\")\n",
    "    \n",
    "    \n",
    "    # now fit a source with this new surrogate\n",
    "    train_source_loss = train_source(\n",
    "        data=gt_simulator, # observations sampled using simulator.sample(context=gt_source)\n",
    "        source_model=source,\n",
    "        simulator=surrogate,  ##### ALWAYS PASSING SURROGATE HERE!!!\n",
    "        optimizer=optimizer,\n",
    "        entro_dist=None,  # default uniform is used\n",
    "        kld_samples=cfg.source.num_kole_samples, # 512\n",
    "        entro_lambda=schedule,\n",
    "        wasser_p=cfg.source.wasserstein_order,   # 2\n",
    "        wasser_np=cfg.source.wasserstein_slices, # 500\n",
    "        use_log_sw=cfg.source.use_log_sw,   # True => log_or_id = torch.log\n",
    "        num_chunks=cfg.source.num_chunks,   # 1\n",
    "        epochs=cfg.source.pretraining_steps # 0\n",
    "        + cfg.source.linear_decay_steps     # 500\n",
    "        + cfg.source.lambda_steps,          # 3000\n",
    "        min_epochs_x_chus=cfg.source.pretraining_steps + cfg.source.linear_decay_steps,\n",
    "        early_stopping_patience=cfg.source.early_stopping_patience, # 500\n",
    "        device=device,\n",
    "        print_every=500,\n",
    "    )\n",
    "    train_source_losses.extend(train_source_loss)\n",
    "    \n",
    "    # Evaluate trained source model\n",
    "    source.eval()\n",
    "    surrogate.eval()\n",
    "    with torch.no_grad():\n",
    "        # sample some θ-s from the estimated source\n",
    "        estimated_source = source.sample(cfg.source.num_eval_obs)\n",
    "        # sample some x-s from those θ-s from the surrogate (pushforward using surrogate)\n",
    "        surro_estimated_pf = surrogate.sample(cfg.source.num_eval_obs, estimated_source)\n",
    "        # sample some x-s from those θ-s from the actual simulator (pushforward using true simulator)\n",
    "        simu_estimated_pf = simulator.sample(estimated_source)\n",
    "    \n",
    "    \n",
    "    # Classifier two sample tests\n",
    "    simu_c2st = np.mean(c2st_scores(simu_estimated_pf.cpu(), gt_simulator_two.cpu()))\n",
    "    print(f\"y c2st AUC on simulator: {simu_c2st}\")\n",
    "    \n",
    "    surro_c2st = np.mean(c2st_scores(surro_estimated_pf.cpu(), gt_surrogate_two.cpu()))\n",
    "    print(f\"y c2st AUC on surrogate: {surro_c2st}\")\n",
    "    \n",
    "    source_c2st = np.mean(\n",
    "        c2st_scores( # 2 `sets` of samples of thetas, from the estimated and the ground truth sources\n",
    "            estimated_source.cpu(),\n",
    "            gt_source_two.cpu(),\n",
    "        )\n",
    "    )\n",
    "    print(f\"Source c2st AUC: {source_c2st}\")\n",
    "\n",
    "    # print(\"Estimate source entropies\")\n",
    "    gt_source_kole = kozachenko_leonenko_estimator(gt_source_two, on_torus=False).item()\n",
    "    estimated_source_kole = kozachenko_leonenko_estimator(\n",
    "        estimated_source, on_torus=False\n",
    "    ).item()\n",
    "    \n",
    "    print(f\"Ground truth source entropy estimate: {gt_source_kole}\")\n",
    "    print(f\"Estimated source entropy estimate: {estimated_source_kole}\")\n",
    "\n",
    "\n",
    "    ## update the source for next iteration of updating the surrogate\n",
    "    iteration += 1\n",
    "    surro_train_domain_distribution = source\n",
    "    print(\"--__--\"*10)"
   ]
  },
  {
   "cell_type": "code",
   "execution_count": 47,
   "id": "0d466ee9-2aa6-4c8c-8304-871715a39cfd",
   "metadata": {},
   "outputs": [
    {
     "data": {
      "image/png": "[encoded data removed]",
      "text/plain": [
       "<Figure size 640x480 with 1 Axes>"
      ]
     },
     "metadata": {},
     "output_type": "display_data"
    }
   ],
   "source": [
    "plt.plot(train_source_losses, label=f\"source training loss\")\n",
    "plt.legend()\n",
    "plt.show()"
   ]
  },
  {
   "cell_type": "code",
   "execution_count": 45,
   "id": "696e47a6-0292-4b38-a87d-5eec7bcc7dc1",
   "metadata": {},
   "outputs": [
    {
     "data": {
      "text/plain": [
       "-0.3491722807545886"
      ]
     },
     "execution_count": 45,
     "metadata": {},
     "output_type": "execute_result"
    }
   ],
   "source": [
    "train_source_losses"
   ]
  },
  {
   "cell_type": "code",
   "execution_count": null,
   "id": "b190b340-f7f7-4089-85f9-eb8c1ac1dcb5",
   "metadata": {},
   "outputs": [],
   "source": []
  },
  {
   "cell_type": "code",
   "execution_count": null,
   "id": "d666d450-4ddf-429c-a2b6-1495de472113",
   "metadata": {},
   "outputs": [],
   "source": []
  },
  {
   "cell_type": "code",
   "execution_count": null,
   "id": "4d4a91c7-c173-4ed4-a958-6e3ddf6f4258",
   "metadata": {},
   "outputs": [],
   "source": []
  },
  {
   "cell_type": "code",
   "execution_count": null,
   "id": "47f2171e-ecef-4930-afb5-b0b11e062281",
   "metadata": {},
   "outputs": [],
   "source": []
  },
  {
   "cell_type": "code",
   "execution_count": null,
   "id": "2421816f-f749-4903-8818-b09d8333703d",
   "metadata": {},
   "outputs": [],
   "source": []
  },
  {
   "cell_type": "code",
   "execution_count": null,
   "id": "048199e9-bb43-4eb3-ad95-429b3772acac",
   "metadata": {},
   "outputs": [],
   "source": []
  },
  {
   "cell_type": "code",
   "execution_count": null,
   "id": "f56493ec-49ed-4bda-9e02-261babd15c4e",
   "metadata": {},
   "outputs": [],
   "source": []
  },
  {
   "cell_type": "code",
   "execution_count": null,
   "id": "85ab0ebb-9d4e-45a0-936d-9eb43db308a0",
   "metadata": {},
   "outputs": [],
   "source": []
  },
  {
   "cell_type": "code",
   "execution_count": 15,
   "id": "17926213-8061-4266-ac65-677c3419c3a4",
   "metadata": {},
   "outputs": [
    {
     "name": "stdout",
     "output_type": "stream",
     "text": [
      "ITERATION: 1/1 training with 2000 samples\n",
      "Epoch: 0, Train Loss: 24310.85374232701, Val Loss: 18606.252685546875\n",
      "Validation loss did not improve for 50 epochs, stopping training after 444 epochs.\n"
     ]
    },
    {
     "data": {
      "image/png": "[encoded data removed]",
      "text/plain": [
       "<Figure size 640x480 with 1 Axes>"
      ]
     },
     "metadata": {},
     "output_type": "display_data"
    },
    {
     "name": "stdout",
     "output_type": "stream",
     "text": [
      "Surrogate vs Simulator y-space C2ST AUC Iteration: 0: 0.8083\n",
      "Surrogate vs Simulator y-space SWD AUC Iteration: 0: 4.0704851150512695\n",
      "Epoch x Chunk: 0, Weighted Loss: 6.269183355996869, Entropy loss: 6.269183355996869, Wasser loss: 0.6716846227645874\n",
      "Epoch x Chunk: 500, Weighted Loss: 1.6357003413115667, Entropy loss: 0.8765569850100041, Wasser loss: 1.9610475301742554\n",
      "Epoch x Chunk: 1000, Weighted Loss: 1.5232157038703773, Entropy loss: 1.269697472350967, Wasser loss: 1.631866455078125\n",
      "Epoch x Chunk: 1500, Weighted Loss: 1.6391083408194562, Entropy loss: 1.5729587012008617, Wasser loss: 1.667458176612854\n",
      "Epoch x Chunk: 2000, Weighted Loss: 1.545324626648919, Entropy loss: 1.501662085667422, Wasser loss: 1.5640372037887573\n",
      "Training loss did not improve. Stopped training after 2207 epochs x chunks.\n",
      "y c2st AUC on simulator: 0.5874499999999999\n",
      "y c2st AUC on surrogate: 0.5147999999999999\n",
      "Source c2st AUC: 0.7426\n",
      "--__----__----__----__----__----__----__----__----__----__--\n"
     ]
    }
   ],
   "source": [
    "surro_train_domain_distribution = box_domain  # initialization\n",
    "train_losses = []\n",
    "val_losses = []\n",
    "iteration = 0\n",
    "\n",
    "# start loop here, don't initialize surrogate again!\n",
    "for _ in range(NUMBER_OF_ITERATIONS):\n",
    "    print(f\"ITERATION: {iteration+1}/{NUMBER_OF_ITERATIONS} training with {MINIMUM_SAMPLES_PER_ITERATION} samples\")\n",
    "    surro_train_domain = surro_train_domain_distribution.sample(MINIMUM_SAMPLES_PER_ITERATION).detach()#?\n",
    "    surro_train_push_forward = simulator.sample(surro_train_domain) # real simulator, budget\n",
    "    \n",
    "\n",
    "    train_dataset, val_dataset = create_train_val_dataloaders(\n",
    "        surro_train_push_forward, # observations: x\n",
    "        surro_train_domain,       #   parameters: θ\n",
    "    )\n",
    "\n",
    "    train_loss, val_loss = fit_conditional_normalizing_flow(\n",
    "        network=surrogate,\n",
    "        optimizer=surro_optimizer,\n",
    "        training_dataset=train_dataset,\n",
    "        validation_dataset=val_dataset,\n",
    "        nb_epochs=cfg.surrogate.nb_epochs,#//NUMBER_OF_ITERATIONS, ## shall we cut down on epochs?\n",
    "        early_stopping_patience=cfg.surrogate.early_stopping_patience,\n",
    "        print_every=500,\n",
    "    )\n",
    "    train_losses.append(train_loss); val_losses.append(val_loss) # concatenate losses across iterations\n",
    "    \n",
    "    if iteration == NUMBER_OF_ITERATIONS-1:\n",
    "        # only save the final surrogate\n",
    "        torch.save(\n",
    "            surrogate.state_dict(),\n",
    "            os.path.join(\n",
    "                cfg.base.base_path, cfg.base.folder, f\"{cfg.base.tag}_surrogate_{iteration}.pt\"\n",
    "            ),\n",
    "        )\n",
    "    \n",
    "    plt.plot(train_loss, label=f\"train loss (iter {iteration+1}/{NUMBER_OF_ITERATIONS})\")\n",
    "    plt.plot(val_loss, label=f\"validation loss (iter {iteration+1}/{NUMBER_OF_ITERATIONS})\")\n",
    "    plt.legend()\n",
    "    plt.show()\n",
    "    \n",
    "    # evaluate the current surrogate\n",
    "    surrogate.eval()\n",
    "    with torch.no_grad():\n",
    "        # surrogate generated observations from the above 2 sets of 10k thetas\n",
    "        gt_surrogate = surrogate.sample(size=cfg.source.num_obs, context=gt_source)\n",
    "        gt_surrogate_two = surrogate.sample(size=cfg.source.num_eval_obs, context=gt_source_two)\n",
    "    \n",
    "    current_c2st = np.mean(c2st_scores(gt_simulator.cpu(), gt_surrogate.cpu()))\n",
    "    current_swd = sliced_wasserstein_distance(gt_simulator, gt_surrogate,\n",
    "                                              num_projections=4096, device=device\n",
    "                                             ).item()\n",
    "    \n",
    "    print(f\"Surrogate vs Simulator y-space C2ST AUC Iteration: {iteration}: {current_c2st}\")\n",
    "    print(f\"Surrogate vs Simulator y-space SWD AUC Iteration: {iteration}: {current_swd}\")\n",
    "    \n",
    "    \n",
    "    # now fit a source with this new surrogate\n",
    "    train_source(\n",
    "        data=gt_simulator, # observations sampled using simulator.sample(context=gt_source)\n",
    "        source_model=source,\n",
    "        simulator=surrogate,  ##### ALWAYS PASSING SURROGATE HERE!!!\n",
    "        optimizer=optimizer,\n",
    "        entro_dist=None,  # default uniform is used\n",
    "        kld_samples=cfg.source.num_kole_samples, # 512\n",
    "        entro_lambda=schedule,\n",
    "        wasser_p=cfg.source.wasserstein_order,   # 2\n",
    "        wasser_np=cfg.source.wasserstein_slices, # 500\n",
    "        use_log_sw=cfg.source.use_log_sw,   # True => log_or_id = torch.log\n",
    "        num_chunks=cfg.source.num_chunks,   # 1\n",
    "        epochs=cfg.source.pretraining_steps # 0\n",
    "        + cfg.source.linear_decay_steps     # 500\n",
    "        + cfg.source.lambda_steps,          # 3000\n",
    "        min_epochs_x_chus=cfg.source.pretraining_steps + cfg.source.linear_decay_steps,\n",
    "        early_stopping_patience=cfg.source.early_stopping_patience, # 500\n",
    "        device=device,\n",
    "        print_every=500,\n",
    "    )\n",
    "    \n",
    "    # Evaluate trained source model\n",
    "    source.eval()\n",
    "    surrogate.eval()\n",
    "    with torch.no_grad():\n",
    "        # sample some θ-s from the estimated source\n",
    "        estimated_source = source.sample(cfg.source.num_eval_obs)\n",
    "        # sample some x-s from those θ-s from the surrogate (pushforward using surrogate)\n",
    "        surro_estimated_pf = surrogate.sample(cfg.source.num_eval_obs, estimated_source)\n",
    "        # sample some x-s from those θ-s from the actual simulator (pushforward using true simulator)\n",
    "        simu_estimated_pf = simulator.sample(estimated_source)\n",
    "    \n",
    "    \n",
    "    # Classifier two sample tests\n",
    "    simu_c2st = np.mean(c2st_scores(simu_estimated_pf.cpu(), gt_simulator_two.cpu(), ))\n",
    "    print(f\"y c2st AUC on simulator: {simu_c2st}\")\n",
    "    \n",
    "    surro_c2st = np.mean(\n",
    "        c2st_scores(\n",
    "            surro_estimated_pf.cpu(),\n",
    "            gt_surrogate_two.cpu(),\n",
    "        )\n",
    "    )\n",
    "    print(f\"y c2st AUC on surrogate: {surro_c2st}\")\n",
    "    \n",
    "    source_c2st = np.mean(\n",
    "        c2st_scores( # samples of thetas\n",
    "            estimated_source.cpu(),\n",
    "            gt_source_two.cpu(),\n",
    "        )\n",
    "    )\n",
    "    print(f\"Source c2st AUC: {source_c2st}\")\n",
    "    \n",
    "    \n",
    "    ## update the source for next iteration of updating the surrogate\n",
    "    iteration += 1\n",
    "    surro_train_domain_distribution = source\n",
    "    print(\"--__--\"*10)"
   ]
  },
  {
   "cell_type": "code",
   "execution_count": 51,
   "id": "3c63d19d-cad8-47d3-90a7-06fbf739ab42",
   "metadata": {},
   "outputs": [
    {
     "name": "stdout",
     "output_type": "stream",
     "text": [
      "Sat Nov 16 15:34:14 2024       \n",
      "+---------------------------------------------------------------------------------------+\n",
      "| NVIDIA-SMI 535.104.12             Driver Version: 535.104.12   CUDA Version: 12.2     |\n",
      "|-----------------------------------------+----------------------+----------------------+\n",
      "| GPU  Name                 Persistence-M | Bus-Id        Disp.A | Volatile Uncorr. ECC |\n",
      "| Fan  Temp   Perf          Pwr:Usage/Cap |         Memory-Usage | GPU-Util  Compute M. |\n",
      "|                                         |                      |               MIG M. |\n",
      "|=========================================+======================+======================|\n",
      "|   0  NVIDIA GeForce RTX 2080 Ti     On  | 00000000:DB:00.0 Off |                  N/A |\n",
      "|  0%   32C    P8              29W / 250W |    519MiB / 11264MiB |      0%      Default |\n",
      "|                                         |                      |                  N/A |\n",
      "+-----------------------------------------+----------------------+----------------------+\n",
      "                                                                                         \n",
      "+---------------------------------------------------------------------------------------+\n",
      "| Processes:                                                                            |\n",
      "|  GPU   GI   CI        PID   Type   Process name                            GPU Memory |\n",
      "|        ID   ID                                                             Usage      |\n",
      "|=======================================================================================|\n",
      "|    0   N/A  N/A    690661      C   .../macke/mwe102/.conda/sbi/bin/python      258MiB |\n",
      "|    0   N/A  N/A    700021      C   .../macke/mwe102/.conda/sbi/bin/python      258MiB |\n",
      "+---------------------------------------------------------------------------------------+\n"
     ]
    }
   ],
   "source": [
    "torch.cuda.empty_cache()\n",
    "!nvidia-smi"
   ]
  },
  {
   "cell_type": "code",
   "execution_count": 19,
   "id": "27d747a6-d3bd-4f29-949b-5f062f4a4db9",
   "metadata": {},
   "outputs": [
    {
     "data": {
      "text/plain": [
       "0.3"
      ]
     },
     "execution_count": 19,
     "metadata": {},
     "output_type": "execute_result"
    }
   ],
   "source": [
    "cfg.source.fin_lambda"
   ]
  },
  {
   "cell_type": "code",
   "execution_count": null,
   "id": "b270c24b-8717-404c-b7d1-887f222a81ab",
   "metadata": {},
   "outputs": [],
   "source": []
  }
 ],
 "metadata": {
  "kernelspec": {
   "display_name": "Python 3 (ipykernel)",
   "language": "python",
   "name": "python3"
  },
  "language_info": {
   "codemirror_mode": {
    "name": "ipython",
    "version": 3
   },
   "file_extension": ".py",
   "mimetype": "text/x-python",
   "name": "python",
   "nbconvert_exporter": "python",
   "pygments_lexer": "ipython3",
   "version": "3.10.15"
  }
 },
 "nbformat": 4,
 "nbformat_minor": 5
}
